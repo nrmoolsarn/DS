{
  "nbformat": 4,
  "nbformat_minor": 0,
  "metadata": {
    "colab": {
      "name": "EVT_TermProject_Rin.ipynb",
      "provenance": [],
      "collapsed_sections": []
    },
    "kernelspec": {
      "name": "python3",
      "display_name": "Python 3"
    }
  },
  "cells": [
    {
      "cell_type": "code",
      "metadata": {
        "id": "qgBntJwsXmkP"
      },
      "source": [
        "import pandas as pd\n",
        "import seaborn as sns\n",
        "import numpy as np"
      ],
      "execution_count": 1,
      "outputs": []
    },
    {
      "cell_type": "code",
      "metadata": {
        "id": "vaIAK6YCX2Kv",
        "outputId": "84dd95e1-07b5-48a0-b0a3-cabc113094dd",
        "colab": {
          "base_uri": "https://localhost:8080/",
          "height": 479
        }
      },
      "source": [
        "data = pd.read_csv('/content/drive/My Drive/1-TermProject/customer.csv')\n",
        "data.head()"
      ],
      "execution_count": 2,
      "outputs": [
        {
          "output_type": "execute_result",
          "data": {
            "text/html": [
              "<div>\n",
              "<style scoped>\n",
              "    .dataframe tbody tr th:only-of-type {\n",
              "        vertical-align: middle;\n",
              "    }\n",
              "\n",
              "    .dataframe tbody tr th {\n",
              "        vertical-align: top;\n",
              "    }\n",
              "\n",
              "    .dataframe thead th {\n",
              "        text-align: right;\n",
              "    }\n",
              "</style>\n",
              "<table border=\"1\" class=\"dataframe\">\n",
              "  <thead>\n",
              "    <tr style=\"text-align: right;\">\n",
              "      <th></th>\n",
              "      <th>CustomerKey</th>\n",
              "      <th>GeographyKey</th>\n",
              "      <th>CustomerAlternateKey</th>\n",
              "      <th>Title</th>\n",
              "      <th>FirstName</th>\n",
              "      <th>MiddleName</th>\n",
              "      <th>LastName</th>\n",
              "      <th>NameStyle</th>\n",
              "      <th>BirthDate</th>\n",
              "      <th>MaritalStatus</th>\n",
              "      <th>Suffix</th>\n",
              "      <th>Gender</th>\n",
              "      <th>EmailAddress</th>\n",
              "      <th>YearlyIncome</th>\n",
              "      <th>TotalChildren</th>\n",
              "      <th>NumberChildrenAtHome</th>\n",
              "      <th>EnglishEducation</th>\n",
              "      <th>SpanishEducation</th>\n",
              "      <th>FrenchEducation</th>\n",
              "      <th>EnglishOccupation</th>\n",
              "      <th>SpanishOccupation</th>\n",
              "      <th>FrenchOccupation</th>\n",
              "      <th>HouseOwnerFlag</th>\n",
              "      <th>NumberCarsOwned</th>\n",
              "      <th>AddressLine1</th>\n",
              "      <th>AddressLine2</th>\n",
              "      <th>Phone</th>\n",
              "      <th>DateFirstPurchase</th>\n",
              "      <th>CommuteDistance</th>\n",
              "    </tr>\n",
              "  </thead>\n",
              "  <tbody>\n",
              "    <tr>\n",
              "      <th>0</th>\n",
              "      <td>11000</td>\n",
              "      <td>26</td>\n",
              "      <td>AW00011000</td>\n",
              "      <td>NaN</td>\n",
              "      <td>Jon</td>\n",
              "      <td>V</td>\n",
              "      <td>Yang</td>\n",
              "      <td>False</td>\n",
              "      <td>1971-10-06T00:00:00.0000000</td>\n",
              "      <td>M</td>\n",
              "      <td>NaN</td>\n",
              "      <td>M</td>\n",
              "      <td>jon24@adventure-works.com</td>\n",
              "      <td>90000.0</td>\n",
              "      <td>2</td>\n",
              "      <td>0</td>\n",
              "      <td>Bachelors</td>\n",
              "      <td>Licenciatura</td>\n",
              "      <td>Bac + 4</td>\n",
              "      <td>Professional</td>\n",
              "      <td>Profesional</td>\n",
              "      <td>Cadre</td>\n",
              "      <td>1</td>\n",
              "      <td>0</td>\n",
              "      <td>3761 N. 14th St</td>\n",
              "      <td>NaN</td>\n",
              "      <td>1 (11) 500 555-0162</td>\n",
              "      <td>2011-01-19T00:00:00.0000000</td>\n",
              "      <td>1-2 Miles</td>\n",
              "    </tr>\n",
              "    <tr>\n",
              "      <th>1</th>\n",
              "      <td>11001</td>\n",
              "      <td>37</td>\n",
              "      <td>AW00011001</td>\n",
              "      <td>NaN</td>\n",
              "      <td>Eugene</td>\n",
              "      <td>L</td>\n",
              "      <td>Huang</td>\n",
              "      <td>False</td>\n",
              "      <td>1976-05-10T00:00:00.0000000</td>\n",
              "      <td>S</td>\n",
              "      <td>NaN</td>\n",
              "      <td>M</td>\n",
              "      <td>eugene10@adventure-works.com</td>\n",
              "      <td>60000.0</td>\n",
              "      <td>3</td>\n",
              "      <td>3</td>\n",
              "      <td>Bachelors</td>\n",
              "      <td>Licenciatura</td>\n",
              "      <td>Bac + 4</td>\n",
              "      <td>Professional</td>\n",
              "      <td>Profesional</td>\n",
              "      <td>Cadre</td>\n",
              "      <td>0</td>\n",
              "      <td>1</td>\n",
              "      <td>2243 W St.</td>\n",
              "      <td>NaN</td>\n",
              "      <td>1 (11) 500 555-0110</td>\n",
              "      <td>2011-01-15T00:00:00.0000000</td>\n",
              "      <td>0-1 Miles</td>\n",
              "    </tr>\n",
              "    <tr>\n",
              "      <th>2</th>\n",
              "      <td>11002</td>\n",
              "      <td>31</td>\n",
              "      <td>AW00011002</td>\n",
              "      <td>NaN</td>\n",
              "      <td>Ruben</td>\n",
              "      <td>NaN</td>\n",
              "      <td>Torres</td>\n",
              "      <td>False</td>\n",
              "      <td>1971-02-09T00:00:00.0000000</td>\n",
              "      <td>M</td>\n",
              "      <td>NaN</td>\n",
              "      <td>M</td>\n",
              "      <td>ruben35@adventure-works.com</td>\n",
              "      <td>60000.0</td>\n",
              "      <td>3</td>\n",
              "      <td>3</td>\n",
              "      <td>Bachelors</td>\n",
              "      <td>Licenciatura</td>\n",
              "      <td>Bac + 4</td>\n",
              "      <td>Professional</td>\n",
              "      <td>Profesional</td>\n",
              "      <td>Cadre</td>\n",
              "      <td>1</td>\n",
              "      <td>1</td>\n",
              "      <td>5844 Linden Land</td>\n",
              "      <td>NaN</td>\n",
              "      <td>1 (11) 500 555-0184</td>\n",
              "      <td>2011-01-07T00:00:00.0000000</td>\n",
              "      <td>2-5 Miles</td>\n",
              "    </tr>\n",
              "    <tr>\n",
              "      <th>3</th>\n",
              "      <td>11003</td>\n",
              "      <td>11</td>\n",
              "      <td>AW00011003</td>\n",
              "      <td>NaN</td>\n",
              "      <td>Christy</td>\n",
              "      <td>NaN</td>\n",
              "      <td>Zhu</td>\n",
              "      <td>False</td>\n",
              "      <td>1973-08-14T00:00:00.0000000</td>\n",
              "      <td>S</td>\n",
              "      <td>NaN</td>\n",
              "      <td>F</td>\n",
              "      <td>christy12@adventure-works.com</td>\n",
              "      <td>70000.0</td>\n",
              "      <td>0</td>\n",
              "      <td>0</td>\n",
              "      <td>Bachelors</td>\n",
              "      <td>Licenciatura</td>\n",
              "      <td>Bac + 4</td>\n",
              "      <td>Professional</td>\n",
              "      <td>Profesional</td>\n",
              "      <td>Cadre</td>\n",
              "      <td>0</td>\n",
              "      <td>1</td>\n",
              "      <td>1825 Village Pl.</td>\n",
              "      <td>NaN</td>\n",
              "      <td>1 (11) 500 555-0162</td>\n",
              "      <td>2010-12-29T00:00:00.0000000</td>\n",
              "      <td>5-10 Miles</td>\n",
              "    </tr>\n",
              "    <tr>\n",
              "      <th>4</th>\n",
              "      <td>11004</td>\n",
              "      <td>19</td>\n",
              "      <td>AW00011004</td>\n",
              "      <td>NaN</td>\n",
              "      <td>Elizabeth</td>\n",
              "      <td>NaN</td>\n",
              "      <td>Johnson</td>\n",
              "      <td>False</td>\n",
              "      <td>1979-08-05T00:00:00.0000000</td>\n",
              "      <td>S</td>\n",
              "      <td>NaN</td>\n",
              "      <td>F</td>\n",
              "      <td>elizabeth5@adventure-works.com</td>\n",
              "      <td>80000.0</td>\n",
              "      <td>5</td>\n",
              "      <td>5</td>\n",
              "      <td>Bachelors</td>\n",
              "      <td>Licenciatura</td>\n",
              "      <td>Bac + 4</td>\n",
              "      <td>Professional</td>\n",
              "      <td>Profesional</td>\n",
              "      <td>Cadre</td>\n",
              "      <td>1</td>\n",
              "      <td>4</td>\n",
              "      <td>7553 Harness Circle</td>\n",
              "      <td>NaN</td>\n",
              "      <td>1 (11) 500 555-0131</td>\n",
              "      <td>2011-01-23T00:00:00.0000000</td>\n",
              "      <td>1-2 Miles</td>\n",
              "    </tr>\n",
              "  </tbody>\n",
              "</table>\n",
              "</div>"
            ],
            "text/plain": [
              "   CustomerKey  GeographyKey  ...            DateFirstPurchase CommuteDistance\n",
              "0        11000            26  ...  2011-01-19T00:00:00.0000000       1-2 Miles\n",
              "1        11001            37  ...  2011-01-15T00:00:00.0000000       0-1 Miles\n",
              "2        11002            31  ...  2011-01-07T00:00:00.0000000       2-5 Miles\n",
              "3        11003            11  ...  2010-12-29T00:00:00.0000000      5-10 Miles\n",
              "4        11004            19  ...  2011-01-23T00:00:00.0000000       1-2 Miles\n",
              "\n",
              "[5 rows x 29 columns]"
            ]
          },
          "metadata": {
            "tags": []
          },
          "execution_count": 2
        }
      ]
    },
    {
      "cell_type": "code",
      "metadata": {
        "id": "HJVLGK0NeHWN",
        "outputId": "483cde50-2462-44f8-9fb0-9c680a7a3cb7",
        "colab": {
          "base_uri": "https://localhost:8080/"
        }
      },
      "source": [
        "data.shape"
      ],
      "execution_count": 3,
      "outputs": [
        {
          "output_type": "execute_result",
          "data": {
            "text/plain": [
              "(18484, 29)"
            ]
          },
          "metadata": {
            "tags": []
          },
          "execution_count": 3
        }
      ]
    },
    {
      "cell_type": "code",
      "metadata": {
        "id": "Ki-h425mZcMP",
        "outputId": "3a80083d-3511-420d-af9c-a1218006b87e",
        "colab": {
          "base_uri": "https://localhost:8080/",
          "height": 297
        }
      },
      "source": [
        "data.describe()"
      ],
      "execution_count": 4,
      "outputs": [
        {
          "output_type": "execute_result",
          "data": {
            "text/html": [
              "<div>\n",
              "<style scoped>\n",
              "    .dataframe tbody tr th:only-of-type {\n",
              "        vertical-align: middle;\n",
              "    }\n",
              "\n",
              "    .dataframe tbody tr th {\n",
              "        vertical-align: top;\n",
              "    }\n",
              "\n",
              "    .dataframe thead th {\n",
              "        text-align: right;\n",
              "    }\n",
              "</style>\n",
              "<table border=\"1\" class=\"dataframe\">\n",
              "  <thead>\n",
              "    <tr style=\"text-align: right;\">\n",
              "      <th></th>\n",
              "      <th>CustomerKey</th>\n",
              "      <th>GeographyKey</th>\n",
              "      <th>YearlyIncome</th>\n",
              "      <th>TotalChildren</th>\n",
              "      <th>NumberChildrenAtHome</th>\n",
              "      <th>HouseOwnerFlag</th>\n",
              "      <th>NumberCarsOwned</th>\n",
              "    </tr>\n",
              "  </thead>\n",
              "  <tbody>\n",
              "    <tr>\n",
              "      <th>count</th>\n",
              "      <td>18484.000000</td>\n",
              "      <td>18484.000000</td>\n",
              "      <td>18484.000000</td>\n",
              "      <td>18484.000000</td>\n",
              "      <td>18484.000000</td>\n",
              "      <td>18484.000000</td>\n",
              "      <td>18484.000000</td>\n",
              "    </tr>\n",
              "    <tr>\n",
              "      <th>mean</th>\n",
              "      <td>20241.500000</td>\n",
              "      <td>257.956287</td>\n",
              "      <td>57305.777970</td>\n",
              "      <td>1.844352</td>\n",
              "      <td>1.004058</td>\n",
              "      <td>0.676369</td>\n",
              "      <td>1.502705</td>\n",
              "    </tr>\n",
              "    <tr>\n",
              "      <th>std</th>\n",
              "      <td>5336.015523</td>\n",
              "      <td>196.531062</td>\n",
              "      <td>32285.841703</td>\n",
              "      <td>1.612408</td>\n",
              "      <td>1.522660</td>\n",
              "      <td>0.467874</td>\n",
              "      <td>1.138394</td>\n",
              "    </tr>\n",
              "    <tr>\n",
              "      <th>min</th>\n",
              "      <td>11000.000000</td>\n",
              "      <td>2.000000</td>\n",
              "      <td>10000.000000</td>\n",
              "      <td>0.000000</td>\n",
              "      <td>0.000000</td>\n",
              "      <td>0.000000</td>\n",
              "      <td>0.000000</td>\n",
              "    </tr>\n",
              "    <tr>\n",
              "      <th>25%</th>\n",
              "      <td>15620.750000</td>\n",
              "      <td>62.000000</td>\n",
              "      <td>30000.000000</td>\n",
              "      <td>0.000000</td>\n",
              "      <td>0.000000</td>\n",
              "      <td>0.000000</td>\n",
              "      <td>1.000000</td>\n",
              "    </tr>\n",
              "    <tr>\n",
              "      <th>50%</th>\n",
              "      <td>20241.500000</td>\n",
              "      <td>240.000000</td>\n",
              "      <td>60000.000000</td>\n",
              "      <td>2.000000</td>\n",
              "      <td>0.000000</td>\n",
              "      <td>1.000000</td>\n",
              "      <td>2.000000</td>\n",
              "    </tr>\n",
              "    <tr>\n",
              "      <th>75%</th>\n",
              "      <td>24862.250000</td>\n",
              "      <td>345.000000</td>\n",
              "      <td>70000.000000</td>\n",
              "      <td>3.000000</td>\n",
              "      <td>2.000000</td>\n",
              "      <td>1.000000</td>\n",
              "      <td>2.000000</td>\n",
              "    </tr>\n",
              "    <tr>\n",
              "      <th>max</th>\n",
              "      <td>29483.000000</td>\n",
              "      <td>654.000000</td>\n",
              "      <td>170000.000000</td>\n",
              "      <td>5.000000</td>\n",
              "      <td>5.000000</td>\n",
              "      <td>1.000000</td>\n",
              "      <td>4.000000</td>\n",
              "    </tr>\n",
              "  </tbody>\n",
              "</table>\n",
              "</div>"
            ],
            "text/plain": [
              "        CustomerKey  GeographyKey  ...  HouseOwnerFlag  NumberCarsOwned\n",
              "count  18484.000000  18484.000000  ...    18484.000000     18484.000000\n",
              "mean   20241.500000    257.956287  ...        0.676369         1.502705\n",
              "std     5336.015523    196.531062  ...        0.467874         1.138394\n",
              "min    11000.000000      2.000000  ...        0.000000         0.000000\n",
              "25%    15620.750000     62.000000  ...        0.000000         1.000000\n",
              "50%    20241.500000    240.000000  ...        1.000000         2.000000\n",
              "75%    24862.250000    345.000000  ...        1.000000         2.000000\n",
              "max    29483.000000    654.000000  ...        1.000000         4.000000\n",
              "\n",
              "[8 rows x 7 columns]"
            ]
          },
          "metadata": {
            "tags": []
          },
          "execution_count": 4
        }
      ]
    },
    {
      "cell_type": "code",
      "metadata": {
        "id": "CBtoTeVmqXJY",
        "outputId": "81823022-178d-4136-8c32-7612759d4f82",
        "colab": {
          "base_uri": "https://localhost:8080/",
          "height": 283
        }
      },
      "source": [
        "sns.boxplot(data=data)"
      ],
      "execution_count": 5,
      "outputs": [
        {
          "output_type": "execute_result",
          "data": {
            "text/plain": [
              "<matplotlib.axes._subplots.AxesSubplot at 0x7f73746383c8>"
            ]
          },
          "metadata": {
            "tags": []
          },
          "execution_count": 5
        },
        {
          "output_type": "display_data",
          "data": {
            "image/png": "[encoded data removed]",
            "text/plain": [
              "<Figure size 432x288 with 1 Axes>"
            ]
          },
          "metadata": {
            "tags": [],
            "needs_background": "light"
          }
        }
      ]
    },
    {
      "cell_type": "code",
      "metadata": {
        "id": "xElRKiwvYCnc",
        "outputId": "c28d838b-4584-48ed-8ad4-2f83a3a056f9",
        "colab": {
          "base_uri": "https://localhost:8080/"
        }
      },
      "source": [
        "data.isna().sum()"
      ],
      "execution_count": 6,
      "outputs": [
        {
          "output_type": "execute_result",
          "data": {
            "text/plain": [
              "CustomerKey                 0\n",
              "GeographyKey                0\n",
              "CustomerAlternateKey        0\n",
              "Title                   18383\n",
              "FirstName                   0\n",
              "MiddleName               7830\n",
              "LastName                    0\n",
              "NameStyle                   0\n",
              "BirthDate                   0\n",
              "MaritalStatus               0\n",
              "Suffix                  18481\n",
              "Gender                      0\n",
              "EmailAddress                0\n",
              "YearlyIncome                0\n",
              "TotalChildren               0\n",
              "NumberChildrenAtHome        0\n",
              "EnglishEducation            0\n",
              "SpanishEducation            0\n",
              "FrenchEducation             0\n",
              "EnglishOccupation           0\n",
              "SpanishOccupation           0\n",
              "FrenchOccupation            0\n",
              "HouseOwnerFlag              0\n",
              "NumberCarsOwned             0\n",
              "AddressLine1                0\n",
              "AddressLine2            18172\n",
              "Phone                       0\n",
              "DateFirstPurchase           0\n",
              "CommuteDistance             0\n",
              "dtype: int64"
            ]
          },
          "metadata": {
            "tags": []
          },
          "execution_count": 6
        }
      ]
    },
    {
      "cell_type": "code",
      "metadata": {
        "id": "19-m1goKYRVV"
      },
      "source": [
        "dataNNa = data.drop(['Title','MiddleName','Suffix','AddressLine2'], axis=1)\n"
      ],
      "execution_count": 7,
      "outputs": []
    },
    {
      "cell_type": "code",
      "metadata": {
        "id": "30Fpi5vCRYyH",
        "outputId": "303adf26-c0aa-4f1e-8f76-f102ff23ac87",
        "colab": {
          "base_uri": "https://localhost:8080/"
        }
      },
      "source": [
        "dataNNa.isna().sum()"
      ],
      "execution_count": 8,
      "outputs": [
        {
          "output_type": "execute_result",
          "data": {
            "text/plain": [
              "CustomerKey             0\n",
              "GeographyKey            0\n",
              "CustomerAlternateKey    0\n",
              "FirstName               0\n",
              "LastName                0\n",
              "NameStyle               0\n",
              "BirthDate               0\n",
              "MaritalStatus           0\n",
              "Gender                  0\n",
              "EmailAddress            0\n",
              "YearlyIncome            0\n",
              "TotalChildren           0\n",
              "NumberChildrenAtHome    0\n",
              "EnglishEducation        0\n",
              "SpanishEducation        0\n",
              "FrenchEducation         0\n",
              "EnglishOccupation       0\n",
              "SpanishOccupation       0\n",
              "FrenchOccupation        0\n",
              "HouseOwnerFlag          0\n",
              "NumberCarsOwned         0\n",
              "AddressLine1            0\n",
              "Phone                   0\n",
              "DateFirstPurchase       0\n",
              "CommuteDistance         0\n",
              "dtype: int64"
            ]
          },
          "metadata": {
            "tags": []
          },
          "execution_count": 8
        }
      ]
    },
    {
      "cell_type": "code",
      "metadata": {
        "id": "4pmakLTATJ9h",
        "outputId": "7791896b-e339-49cc-a45f-ff1748dc6c7f",
        "colab": {
          "base_uri": "https://localhost:8080/"
        }
      },
      "source": [
        "dataNNa['GeographyKey'].value_counts()"
      ],
      "execution_count": 9,
      "outputs": [
        {
          "output_type": "execute_result",
          "data": {
            "text/plain": [
              "311    212\n",
              "612    212\n",
              "609    210\n",
              "536    210\n",
              "307    206\n",
              "      ... \n",
              "280      1\n",
              "491      1\n",
              "296      1\n",
              "488      1\n",
              "305      1\n",
              "Name: GeographyKey, Length: 336, dtype: int64"
            ]
          },
          "metadata": {
            "tags": []
          },
          "execution_count": 9
        }
      ]
    },
    {
      "cell_type": "code",
      "metadata": {
        "id": "Xy4MWBnxeyLp",
        "outputId": "4fee71c7-eca3-48c2-997a-359ad7980c89",
        "colab": {
          "base_uri": "https://localhost:8080/",
          "height": 353
        }
      },
      "source": [
        "sns.countplot(dataNNa['GeographyKey'])"
      ],
      "execution_count": 10,
      "outputs": [
        {
          "output_type": "stream",
          "text": [
            "/usr/local/lib/python3.6/dist-packages/seaborn/_decorators.py:43: FutureWarning: Pass the following variable as a keyword arg: x. From version 0.12, the only valid positional argument will be `data`, and passing other arguments without an explicit keyword will result in an error or misinterpretation.\n",
            "  FutureWarning\n"
          ],
          "name": "stderr"
        },
        {
          "output_type": "execute_result",
          "data": {
            "text/plain": [
              "<matplotlib.axes._subplots.AxesSubplot at 0x7f7374003ac8>"
            ]
          },
          "metadata": {
            "tags": []
          },
          "execution_count": 10
        },
        {
          "output_type": "display_data",
          "data": {
            "image/png": "[encoded data removed]",
            "text/plain": [
              "<Figure size 432x288 with 1 Axes>"
            ]
          },
          "metadata": {
            "tags": [],
            "needs_background": "light"
          }
        }
      ]
    },
    {
      "cell_type": "code",
      "metadata": {
        "id": "2lvSkNWqSHUg",
        "outputId": "ac5240c3-c45d-48d8-af22-a20a80b214e3",
        "colab": {
          "base_uri": "https://localhost:8080/"
        }
      },
      "source": [
        "dataNNa['NameStyle'].value_counts()"
      ],
      "execution_count": 11,
      "outputs": [
        {
          "output_type": "execute_result",
          "data": {
            "text/plain": [
              "False    18484\n",
              "Name: NameStyle, dtype: int64"
            ]
          },
          "metadata": {
            "tags": []
          },
          "execution_count": 11
        }
      ]
    },
    {
      "cell_type": "code",
      "metadata": {
        "id": "-uKAx9Mte1Em",
        "outputId": "9bd72d6a-2c4b-409f-988e-ebb6e64c7abc",
        "colab": {
          "base_uri": "https://localhost:8080/",
          "height": 353
        }
      },
      "source": [
        "sns.countplot(dataNNa['NameStyle'])"
      ],
      "execution_count": 12,
      "outputs": [
        {
          "output_type": "stream",
          "text": [
            "/usr/local/lib/python3.6/dist-packages/seaborn/_decorators.py:43: FutureWarning: Pass the following variable as a keyword arg: x. From version 0.12, the only valid positional argument will be `data`, and passing other arguments without an explicit keyword will result in an error or misinterpretation.\n",
            "  FutureWarning\n"
          ],
          "name": "stderr"
        },
        {
          "output_type": "execute_result",
          "data": {
            "text/plain": [
              "<matplotlib.axes._subplots.AxesSubplot at 0x7f73739810f0>"
            ]
          },
          "metadata": {
            "tags": []
          },
          "execution_count": 12
        },
        {
          "output_type": "display_data",
          "data": {
            "image/png": "[encoded data removed]",
            "text/plain": [
              "<Figure size 432x288 with 1 Axes>"
            ]
          },
          "metadata": {
            "tags": [],
            "needs_background": "light"
          }
        }
      ]
    },
    {
      "cell_type": "code",
      "metadata": {
        "id": "eDAflmtkScbj",
        "outputId": "9e4663df-1b8d-4acc-905d-10459e08e920",
        "colab": {
          "base_uri": "https://localhost:8080/"
        }
      },
      "source": [
        "dataNNa['MaritalStatus'].value_counts()"
      ],
      "execution_count": 13,
      "outputs": [
        {
          "output_type": "execute_result",
          "data": {
            "text/plain": [
              "M    10011\n",
              "S     8473\n",
              "Name: MaritalStatus, dtype: int64"
            ]
          },
          "metadata": {
            "tags": []
          },
          "execution_count": 13
        }
      ]
    },
    {
      "cell_type": "code",
      "metadata": {
        "id": "Zya3ra4TfWPZ",
        "outputId": "b2af847e-98d2-4a17-922a-c721571e79bd",
        "colab": {
          "base_uri": "https://localhost:8080/",
          "height": 353
        }
      },
      "source": [
        "sns.countplot(dataNNa['MaritalStatus'])"
      ],
      "execution_count": 14,
      "outputs": [
        {
          "output_type": "stream",
          "text": [
            "/usr/local/lib/python3.6/dist-packages/seaborn/_decorators.py:43: FutureWarning: Pass the following variable as a keyword arg: x. From version 0.12, the only valid positional argument will be `data`, and passing other arguments without an explicit keyword will result in an error or misinterpretation.\n",
            "  FutureWarning\n"
          ],
          "name": "stderr"
        },
        {
          "output_type": "execute_result",
          "data": {
            "text/plain": [
              "<matplotlib.axes._subplots.AxesSubplot at 0x7f737386bb38>"
            ]
          },
          "metadata": {
            "tags": []
          },
          "execution_count": 14
        },
        {
          "output_type": "display_data",
          "data": {
            "image/png": "[encoded data removed]",
            "text/plain": [
              "<Figure size 432x288 with 1 Axes>"
            ]
          },
          "metadata": {
            "tags": [],
            "needs_background": "light"
          }
        }
      ]
    },
    {
      "cell_type": "code",
      "metadata": {
        "id": "6Z5gFe2jSg44",
        "outputId": "088995a6-ea13-4c18-d856-a521ca7425c4",
        "colab": {
          "base_uri": "https://localhost:8080/"
        }
      },
      "source": [
        "dataNNa['Gender'].value_counts()"
      ],
      "execution_count": 15,
      "outputs": [
        {
          "output_type": "execute_result",
          "data": {
            "text/plain": [
              "M    9351\n",
              "F    9133\n",
              "Name: Gender, dtype: int64"
            ]
          },
          "metadata": {
            "tags": []
          },
          "execution_count": 15
        }
      ]
    },
    {
      "cell_type": "code",
      "metadata": {
        "id": "zKNltyv6iMeL",
        "outputId": "fe756232-9747-4d1d-fc53-77a3dacb3558",
        "colab": {
          "base_uri": "https://localhost:8080/",
          "height": 353
        }
      },
      "source": [
        "sns.countplot(dataNNa['Gender'])"
      ],
      "execution_count": 16,
      "outputs": [
        {
          "output_type": "stream",
          "text": [
            "/usr/local/lib/python3.6/dist-packages/seaborn/_decorators.py:43: FutureWarning: Pass the following variable as a keyword arg: x. From version 0.12, the only valid positional argument will be `data`, and passing other arguments without an explicit keyword will result in an error or misinterpretation.\n",
            "  FutureWarning\n"
          ],
          "name": "stderr"
        },
        {
          "output_type": "execute_result",
          "data": {
            "text/plain": [
              "<matplotlib.axes._subplots.AxesSubplot at 0x7f7373843320>"
            ]
          },
          "metadata": {
            "tags": []
          },
          "execution_count": 16
        },
        {
          "output_type": "display_data",
          "data": {
            "image/png": "[encoded data removed]",
            "text/plain": [
              "<Figure size 432x288 with 1 Axes>"
            ]
          },
          "metadata": {
            "tags": [],
            "needs_background": "light"
          }
        }
      ]
    },
    {
      "cell_type": "code",
      "metadata": {
        "id": "1A-044y6SmZn",
        "outputId": "5e12da35-c54c-400a-d1c9-6b985d820044",
        "colab": {
          "base_uri": "https://localhost:8080/"
        }
      },
      "source": [
        "dataNNa['YearlyIncome'].value_counts()"
      ],
      "execution_count": 17,
      "outputs": [
        {
          "output_type": "execute_result",
          "data": {
            "text/plain": [
              "60000.0     3127\n",
              "40000.0     2747\n",
              "70000.0     2349\n",
              "30000.0     2287\n",
              "20000.0     1767\n",
              "80000.0     1342\n",
              "10000.0     1155\n",
              "90000.0      842\n",
              "50000.0      670\n",
              "100000.0     571\n",
              "130000.0     512\n",
              "110000.0     474\n",
              "120000.0     332\n",
              "170000.0     112\n",
              "150000.0     103\n",
              "160000.0      94\n",
              "Name: YearlyIncome, dtype: int64"
            ]
          },
          "metadata": {
            "tags": []
          },
          "execution_count": 17
        }
      ]
    },
    {
      "cell_type": "code",
      "metadata": {
        "id": "KefqydSYiP26",
        "outputId": "50baab92-78ac-47f9-882a-80414f0460f0",
        "colab": {
          "base_uri": "https://localhost:8080/",
          "height": 353
        }
      },
      "source": [
        "sns.countplot(dataNNa['YearlyIncome'])"
      ],
      "execution_count": 18,
      "outputs": [
        {
          "output_type": "stream",
          "text": [
            "/usr/local/lib/python3.6/dist-packages/seaborn/_decorators.py:43: FutureWarning: Pass the following variable as a keyword arg: x. From version 0.12, the only valid positional argument will be `data`, and passing other arguments without an explicit keyword will result in an error or misinterpretation.\n",
            "  FutureWarning\n"
          ],
          "name": "stderr"
        },
        {
          "output_type": "execute_result",
          "data": {
            "text/plain": [
              "<matplotlib.axes._subplots.AxesSubplot at 0x7f7373798dd8>"
            ]
          },
          "metadata": {
            "tags": []
          },
          "execution_count": 18
        },
        {
          "output_type": "display_data",
          "data": {
            "image/png": "[encoded data removed]",
            "text/plain": [
              "<Figure size 432x288 with 1 Axes>"
            ]
          },
          "metadata": {
            "tags": [],
            "needs_background": "light"
          }
        }
      ]
    },
    {
      "cell_type": "code",
      "metadata": {
        "id": "BIY5Kv36SqDR",
        "outputId": "12934d32-8853-44c7-b10b-e2558490a416",
        "colab": {
          "base_uri": "https://localhost:8080/"
        }
      },
      "source": [
        "dataNNa['TotalChildren'].value_counts()"
      ],
      "execution_count": 19,
      "outputs": [
        {
          "output_type": "execute_result",
          "data": {
            "text/plain": [
              "0    5165\n",
              "2    3779\n",
              "1    3619\n",
              "4    2303\n",
              "3    2194\n",
              "5    1424\n",
              "Name: TotalChildren, dtype: int64"
            ]
          },
          "metadata": {
            "tags": []
          },
          "execution_count": 19
        }
      ]
    },
    {
      "cell_type": "code",
      "metadata": {
        "id": "7xfuwa3ziePX",
        "outputId": "33bca4f5-363a-414b-b2dc-66d0d8288fbc",
        "colab": {
          "base_uri": "https://localhost:8080/",
          "height": 353
        }
      },
      "source": [
        "sns.countplot(dataNNa['TotalChildren'])"
      ],
      "execution_count": 20,
      "outputs": [
        {
          "output_type": "stream",
          "text": [
            "/usr/local/lib/python3.6/dist-packages/seaborn/_decorators.py:43: FutureWarning: Pass the following variable as a keyword arg: x. From version 0.12, the only valid positional argument will be `data`, and passing other arguments without an explicit keyword will result in an error or misinterpretation.\n",
            "  FutureWarning\n"
          ],
          "name": "stderr"
        },
        {
          "output_type": "execute_result",
          "data": {
            "text/plain": [
              "<matplotlib.axes._subplots.AxesSubplot at 0x7f7373735630>"
            ]
          },
          "metadata": {
            "tags": []
          },
          "execution_count": 20
        },
        {
          "output_type": "display_data",
          "data": {
            "image/png": "[encoded data removed]",
            "text/plain": [
              "<Figure size 432x288 with 1 Axes>"
            ]
          },
          "metadata": {
            "tags": [],
            "needs_background": "light"
          }
        }
      ]
    },
    {
      "cell_type": "code",
      "metadata": {
        "id": "nMjlRptaStoa",
        "outputId": "3e2cd0fd-dfe4-4a65-aad1-75866078a2d9",
        "colab": {
          "base_uri": "https://localhost:8080/"
        }
      },
      "source": [
        "dataNNa['NumberChildrenAtHome'].value_counts()"
      ],
      "execution_count": 21,
      "outputs": [
        {
          "output_type": "execute_result",
          "data": {
            "text/plain": [
              "0    11116\n",
              "1     2460\n",
              "2     1648\n",
              "3     1204\n",
              "4     1089\n",
              "5      967\n",
              "Name: NumberChildrenAtHome, dtype: int64"
            ]
          },
          "metadata": {
            "tags": []
          },
          "execution_count": 21
        }
      ]
    },
    {
      "cell_type": "code",
      "metadata": {
        "id": "YXrqVHwXigpU",
        "outputId": "006eebc2-bf2f-4192-8f36-6c43626a10d1",
        "colab": {
          "base_uri": "https://localhost:8080/",
          "height": 353
        }
      },
      "source": [
        "sns.countplot(dataNNa['NumberChildrenAtHome'])"
      ],
      "execution_count": 22,
      "outputs": [
        {
          "output_type": "stream",
          "text": [
            "/usr/local/lib/python3.6/dist-packages/seaborn/_decorators.py:43: FutureWarning: Pass the following variable as a keyword arg: x. From version 0.12, the only valid positional argument will be `data`, and passing other arguments without an explicit keyword will result in an error or misinterpretation.\n",
            "  FutureWarning\n"
          ],
          "name": "stderr"
        },
        {
          "output_type": "execute_result",
          "data": {
            "text/plain": [
              "<matplotlib.axes._subplots.AxesSubplot at 0x7f73736a68d0>"
            ]
          },
          "metadata": {
            "tags": []
          },
          "execution_count": 22
        },
        {
          "output_type": "display_data",
          "data": {
            "image/png": "[encoded data removed]",
            "text/plain": [
              "<Figure size 432x288 with 1 Axes>"
            ]
          },
          "metadata": {
            "tags": [],
            "needs_background": "light"
          }
        }
      ]
    },
    {
      "cell_type": "code",
      "metadata": {
        "id": "Z-F5EFjMSw3F",
        "outputId": "40568b26-b311-44db-9e79-7f9fb5af32fa",
        "colab": {
          "base_uri": "https://localhost:8080/"
        }
      },
      "source": [
        "dataNNa['EnglishEducation'].value_counts()"
      ],
      "execution_count": 23,
      "outputs": [
        {
          "output_type": "execute_result",
          "data": {
            "text/plain": [
              "Bachelors              5356\n",
              "Partial College        5064\n",
              "High School            3294\n",
              "Graduate Degree        3189\n",
              "Partial High School    1581\n",
              "Name: EnglishEducation, dtype: int64"
            ]
          },
          "metadata": {
            "tags": []
          },
          "execution_count": 23
        }
      ]
    },
    {
      "cell_type": "code",
      "metadata": {
        "id": "7PwebzMkimV1",
        "outputId": "fac7ef97-9ba6-4936-ff17-400b9c20ab5f",
        "colab": {
          "base_uri": "https://localhost:8080/",
          "height": 353
        }
      },
      "source": [
        "sns.countplot(dataNNa['EnglishEducation'])"
      ],
      "execution_count": 24,
      "outputs": [
        {
          "output_type": "stream",
          "text": [
            "/usr/local/lib/python3.6/dist-packages/seaborn/_decorators.py:43: FutureWarning: Pass the following variable as a keyword arg: x. From version 0.12, the only valid positional argument will be `data`, and passing other arguments without an explicit keyword will result in an error or misinterpretation.\n",
            "  FutureWarning\n"
          ],
          "name": "stderr"
        },
        {
          "output_type": "execute_result",
          "data": {
            "text/plain": [
              "<matplotlib.axes._subplots.AxesSubplot at 0x7f73738da278>"
            ]
          },
          "metadata": {
            "tags": []
          },
          "execution_count": 24
        },
        {
          "output_type": "display_data",
          "data": {
            "image/png": "[encoded data removed]",
            "text/plain": [
              "<Figure size 432x288 with 1 Axes>"
            ]
          },
          "metadata": {
            "tags": [],
            "needs_background": "light"
          }
        }
      ]
    },
    {
      "cell_type": "code",
      "metadata": {
        "id": "Z6ib3DbjS1Gn",
        "outputId": "d115737c-6933-4e66-84fd-a8022d2a428c",
        "colab": {
          "base_uri": "https://localhost:8080/"
        }
      },
      "source": [
        "dataNNa['EnglishOccupation'].value_counts()"
      ],
      "execution_count": 25,
      "outputs": [
        {
          "output_type": "execute_result",
          "data": {
            "text/plain": [
              "Professional      5520\n",
              "Skilled Manual    4577\n",
              "Management        3075\n",
              "Clerical          2928\n",
              "Manual            2384\n",
              "Name: EnglishOccupation, dtype: int64"
            ]
          },
          "metadata": {
            "tags": []
          },
          "execution_count": 25
        }
      ]
    },
    {
      "cell_type": "code",
      "metadata": {
        "id": "7QcQqEIIitRH",
        "outputId": "ce3d91fc-4cee-43c5-fdfa-1c189cc7bb10",
        "colab": {
          "base_uri": "https://localhost:8080/",
          "height": 353
        }
      },
      "source": [
        "sns.countplot(dataNNa['EnglishOccupation'])"
      ],
      "execution_count": 26,
      "outputs": [
        {
          "output_type": "stream",
          "text": [
            "/usr/local/lib/python3.6/dist-packages/seaborn/_decorators.py:43: FutureWarning: Pass the following variable as a keyword arg: x. From version 0.12, the only valid positional argument will be `data`, and passing other arguments without an explicit keyword will result in an error or misinterpretation.\n",
            "  FutureWarning\n"
          ],
          "name": "stderr"
        },
        {
          "output_type": "execute_result",
          "data": {
            "text/plain": [
              "<matplotlib.axes._subplots.AxesSubplot at 0x7f73740345f8>"
            ]
          },
          "metadata": {
            "tags": []
          },
          "execution_count": 26
        },
        {
          "output_type": "display_data",
          "data": {
            "image/png": "[encoded data removed]",
            "text/plain": [
              "<Figure size 432x288 with 1 Axes>"
            ]
          },
          "metadata": {
            "tags": [],
            "needs_background": "light"
          }
        }
      ]
    },
    {
      "cell_type": "code",
      "metadata": {
        "id": "tfsnjnnNS5FO",
        "outputId": "f7dc917f-4931-429f-fe09-6c50052d1b9d",
        "colab": {
          "base_uri": "https://localhost:8080/"
        }
      },
      "source": [
        "dataNNa['HouseOwnerFlag'].value_counts()"
      ],
      "execution_count": 27,
      "outputs": [
        {
          "output_type": "execute_result",
          "data": {
            "text/plain": [
              "1    12502\n",
              "0     5982\n",
              "Name: HouseOwnerFlag, dtype: int64"
            ]
          },
          "metadata": {
            "tags": []
          },
          "execution_count": 27
        }
      ]
    },
    {
      "cell_type": "code",
      "metadata": {
        "id": "2lujiwmQiz9-",
        "outputId": "4d3e475d-4621-4db0-cebe-6f22978f5dbc",
        "colab": {
          "base_uri": "https://localhost:8080/",
          "height": 353
        }
      },
      "source": [
        "sns.countplot(dataNNa['HouseOwnerFlag'])"
      ],
      "execution_count": 28,
      "outputs": [
        {
          "output_type": "stream",
          "text": [
            "/usr/local/lib/python3.6/dist-packages/seaborn/_decorators.py:43: FutureWarning: Pass the following variable as a keyword arg: x. From version 0.12, the only valid positional argument will be `data`, and passing other arguments without an explicit keyword will result in an error or misinterpretation.\n",
            "  FutureWarning\n"
          ],
          "name": "stderr"
        },
        {
          "output_type": "execute_result",
          "data": {
            "text/plain": [
              "<matplotlib.axes._subplots.AxesSubplot at 0x7f7373591710>"
            ]
          },
          "metadata": {
            "tags": []
          },
          "execution_count": 28
        },
        {
          "output_type": "display_data",
          "data": {
            "image/png": "[encoded data removed]",
            "text/plain": [
              "<Figure size 432x288 with 1 Axes>"
            ]
          },
          "metadata": {
            "tags": [],
            "needs_background": "light"
          }
        }
      ]
    },
    {
      "cell_type": "code",
      "metadata": {
        "id": "5ptYbggES8SL",
        "outputId": "610f3ae7-2cce-4a20-820f-2fc0c0a44f1d",
        "colab": {
          "base_uri": "https://localhost:8080/"
        }
      },
      "source": [
        "dataNNa['NumberCarsOwned'].value_counts()"
      ],
      "execution_count": 29,
      "outputs": [
        {
          "output_type": "execute_result",
          "data": {
            "text/plain": [
              "2    6457\n",
              "1    4883\n",
              "0    4238\n",
              "3    1645\n",
              "4    1261\n",
              "Name: NumberCarsOwned, dtype: int64"
            ]
          },
          "metadata": {
            "tags": []
          },
          "execution_count": 29
        }
      ]
    },
    {
      "cell_type": "code",
      "metadata": {
        "id": "jCfWgP5Ni5u0",
        "outputId": "81fc9536-2a3a-4c20-c3dd-bd42f4661d0d",
        "colab": {
          "base_uri": "https://localhost:8080/",
          "height": 353
        }
      },
      "source": [
        "sns.countplot(dataNNa['NumberCarsOwned'])"
      ],
      "execution_count": 30,
      "outputs": [
        {
          "output_type": "stream",
          "text": [
            "/usr/local/lib/python3.6/dist-packages/seaborn/_decorators.py:43: FutureWarning: Pass the following variable as a keyword arg: x. From version 0.12, the only valid positional argument will be `data`, and passing other arguments without an explicit keyword will result in an error or misinterpretation.\n",
            "  FutureWarning\n"
          ],
          "name": "stderr"
        },
        {
          "output_type": "execute_result",
          "data": {
            "text/plain": [
              "<matplotlib.axes._subplots.AxesSubplot at 0x7f737356d358>"
            ]
          },
          "metadata": {
            "tags": []
          },
          "execution_count": 30
        },
        {
          "output_type": "display_data",
          "data": {
            "image/png": "[encoded data removed]",
            "text/plain": [
              "<Figure size 432x288 with 1 Axes>"
            ]
          },
          "metadata": {
            "tags": [],
            "needs_background": "light"
          }
        }
      ]
    },
    {
      "cell_type": "code",
      "metadata": {
        "id": "tB9JpiSjTBiY",
        "outputId": "05cc58cf-b72b-4cf5-fb05-a1cfeaabbfcc",
        "colab": {
          "base_uri": "https://localhost:8080/"
        }
      },
      "source": [
        "dataNNa['CommuteDistance'].value_counts()"
      ],
      "execution_count": 31,
      "outputs": [
        {
          "output_type": "execute_result",
          "data": {
            "text/plain": [
              "0-1 Miles     6310\n",
              "2-5 Miles     3234\n",
              "1-2 Miles     3232\n",
              "5-10 Miles    3214\n",
              "10+ Miles     2494\n",
              "Name: CommuteDistance, dtype: int64"
            ]
          },
          "metadata": {
            "tags": []
          },
          "execution_count": 31
        }
      ]
    },
    {
      "cell_type": "code",
      "metadata": {
        "id": "aApkqYuwi_On",
        "outputId": "6e8d1b56-7e22-4ed7-b239-ae087532f901",
        "colab": {
          "base_uri": "https://localhost:8080/",
          "height": 353
        }
      },
      "source": [
        "sns.countplot(dataNNa['CommuteDistance'])"
      ],
      "execution_count": 32,
      "outputs": [
        {
          "output_type": "stream",
          "text": [
            "/usr/local/lib/python3.6/dist-packages/seaborn/_decorators.py:43: FutureWarning: Pass the following variable as a keyword arg: x. From version 0.12, the only valid positional argument will be `data`, and passing other arguments without an explicit keyword will result in an error or misinterpretation.\n",
            "  FutureWarning\n"
          ],
          "name": "stderr"
        },
        {
          "output_type": "execute_result",
          "data": {
            "text/plain": [
              "<matplotlib.axes._subplots.AxesSubplot at 0x7f73734d0eb8>"
            ]
          },
          "metadata": {
            "tags": []
          },
          "execution_count": 32
        },
        {
          "output_type": "display_data",
          "data": {
            "image/png": "[encoded data removed]",
            "text/plain": [
              "<Figure size 432x288 with 1 Axes>"
            ]
          },
          "metadata": {
            "tags": [],
            "needs_background": "light"
          }
        }
      ]
    },
    {
      "cell_type": "code",
      "metadata": {
        "id": "LlSdWWzmjt0i"
      },
      "source": [
        "sns.pairplot(dataNNa)"
      ],
      "execution_count": 33,
      "outputs": []
    },
    {
      "cell_type": "code",
      "metadata": {
        "id": "0M4xpe5KzNEz",
        "outputId": "6858468a-569e-400e-8efd-e6031c726bd5",
        "colab": {
          "base_uri": "https://localhost:8080/",
          "height": 387
        }
      },
      "source": [
        "sns.catplot(data=dataNNa, orient=\"h\", kind=\"box\")"
      ],
      "execution_count": 34,
      "outputs": [
        {
          "output_type": "execute_result",
          "data": {
            "text/plain": [
              "<seaborn.axisgrid.FacetGrid at 0x7f73734a5f28>"
            ]
          },
          "metadata": {
            "tags": []
          },
          "execution_count": 34
        },
        {
          "output_type": "display_data",
          "data": {
            "image/png": "[encoded data removed]",
            "text/plain": [
              "<Figure size 360x360 with 1 Axes>"
            ]
          },
          "metadata": {
            "tags": [],
            "needs_background": "light"
          }
        }
      ]
    },
    {
      "cell_type": "code",
      "metadata": {
        "id": "_IlbUJkXSDZQ",
        "outputId": "a340f0e8-6151-4c8f-809c-7d19a2cbe752",
        "colab": {
          "base_uri": "https://localhost:8080/",
          "height": 479
        }
      },
      "source": [
        "dataNNa.head()"
      ],
      "execution_count": 35,
      "outputs": [
        {
          "output_type": "execute_result",
          "data": {
            "text/html": [
              "<div>\n",
              "<style scoped>\n",
              "    .dataframe tbody tr th:only-of-type {\n",
              "        vertical-align: middle;\n",
              "    }\n",
              "\n",
              "    .dataframe tbody tr th {\n",
              "        vertical-align: top;\n",
              "    }\n",
              "\n",
              "    .dataframe thead th {\n",
              "        text-align: right;\n",
              "    }\n",
              "</style>\n",
              "<table border=\"1\" class=\"dataframe\">\n",
              "  <thead>\n",
              "    <tr style=\"text-align: right;\">\n",
              "      <th></th>\n",
              "      <th>CustomerKey</th>\n",
              "      <th>GeographyKey</th>\n",
              "      <th>CustomerAlternateKey</th>\n",
              "      <th>FirstName</th>\n",
              "      <th>LastName</th>\n",
              "      <th>NameStyle</th>\n",
              "      <th>BirthDate</th>\n",
              "      <th>MaritalStatus</th>\n",
              "      <th>Gender</th>\n",
              "      <th>EmailAddress</th>\n",
              "      <th>YearlyIncome</th>\n",
              "      <th>TotalChildren</th>\n",
              "      <th>NumberChildrenAtHome</th>\n",
              "      <th>EnglishEducation</th>\n",
              "      <th>SpanishEducation</th>\n",
              "      <th>FrenchEducation</th>\n",
              "      <th>EnglishOccupation</th>\n",
              "      <th>SpanishOccupation</th>\n",
              "      <th>FrenchOccupation</th>\n",
              "      <th>HouseOwnerFlag</th>\n",
              "      <th>NumberCarsOwned</th>\n",
              "      <th>AddressLine1</th>\n",
              "      <th>Phone</th>\n",
              "      <th>DateFirstPurchase</th>\n",
              "      <th>CommuteDistance</th>\n",
              "    </tr>\n",
              "  </thead>\n",
              "  <tbody>\n",
              "    <tr>\n",
              "      <th>0</th>\n",
              "      <td>11000</td>\n",
              "      <td>26</td>\n",
              "      <td>AW00011000</td>\n",
              "      <td>Jon</td>\n",
              "      <td>Yang</td>\n",
              "      <td>False</td>\n",
              "      <td>1971-10-06T00:00:00.0000000</td>\n",
              "      <td>M</td>\n",
              "      <td>M</td>\n",
              "      <td>jon24@adventure-works.com</td>\n",
              "      <td>90000.0</td>\n",
              "      <td>2</td>\n",
              "      <td>0</td>\n",
              "      <td>Bachelors</td>\n",
              "      <td>Licenciatura</td>\n",
              "      <td>Bac + 4</td>\n",
              "      <td>Professional</td>\n",
              "      <td>Profesional</td>\n",
              "      <td>Cadre</td>\n",
              "      <td>1</td>\n",
              "      <td>0</td>\n",
              "      <td>3761 N. 14th St</td>\n",
              "      <td>1 (11) 500 555-0162</td>\n",
              "      <td>2011-01-19T00:00:00.0000000</td>\n",
              "      <td>1-2 Miles</td>\n",
              "    </tr>\n",
              "    <tr>\n",
              "      <th>1</th>\n",
              "      <td>11001</td>\n",
              "      <td>37</td>\n",
              "      <td>AW00011001</td>\n",
              "      <td>Eugene</td>\n",
              "      <td>Huang</td>\n",
              "      <td>False</td>\n",
              "      <td>1976-05-10T00:00:00.0000000</td>\n",
              "      <td>S</td>\n",
              "      <td>M</td>\n",
              "      <td>eugene10@adventure-works.com</td>\n",
              "      <td>60000.0</td>\n",
              "      <td>3</td>\n",
              "      <td>3</td>\n",
              "      <td>Bachelors</td>\n",
              "      <td>Licenciatura</td>\n",
              "      <td>Bac + 4</td>\n",
              "      <td>Professional</td>\n",
              "      <td>Profesional</td>\n",
              "      <td>Cadre</td>\n",
              "      <td>0</td>\n",
              "      <td>1</td>\n",
              "      <td>2243 W St.</td>\n",
              "      <td>1 (11) 500 555-0110</td>\n",
              "      <td>2011-01-15T00:00:00.0000000</td>\n",
              "      <td>0-1 Miles</td>\n",
              "    </tr>\n",
              "    <tr>\n",
              "      <th>2</th>\n",
              "      <td>11002</td>\n",
              "      <td>31</td>\n",
              "      <td>AW00011002</td>\n",
              "      <td>Ruben</td>\n",
              "      <td>Torres</td>\n",
              "      <td>False</td>\n",
              "      <td>1971-02-09T00:00:00.0000000</td>\n",
              "      <td>M</td>\n",
              "      <td>M</td>\n",
              "      <td>ruben35@adventure-works.com</td>\n",
              "      <td>60000.0</td>\n",
              "      <td>3</td>\n",
              "      <td>3</td>\n",
              "      <td>Bachelors</td>\n",
              "      <td>Licenciatura</td>\n",
              "      <td>Bac + 4</td>\n",
              "      <td>Professional</td>\n",
              "      <td>Profesional</td>\n",
              "      <td>Cadre</td>\n",
              "      <td>1</td>\n",
              "      <td>1</td>\n",
              "      <td>5844 Linden Land</td>\n",
              "      <td>1 (11) 500 555-0184</td>\n",
              "      <td>2011-01-07T00:00:00.0000000</td>\n",
              "      <td>2-5 Miles</td>\n",
              "    </tr>\n",
              "    <tr>\n",
              "      <th>3</th>\n",
              "      <td>11003</td>\n",
              "      <td>11</td>\n",
              "      <td>AW00011003</td>\n",
              "      <td>Christy</td>\n",
              "      <td>Zhu</td>\n",
              "      <td>False</td>\n",
              "      <td>1973-08-14T00:00:00.0000000</td>\n",
              "      <td>S</td>\n",
              "      <td>F</td>\n",
              "      <td>christy12@adventure-works.com</td>\n",
              "      <td>70000.0</td>\n",
              "      <td>0</td>\n",
              "      <td>0</td>\n",
              "      <td>Bachelors</td>\n",
              "      <td>Licenciatura</td>\n",
              "      <td>Bac + 4</td>\n",
              "      <td>Professional</td>\n",
              "      <td>Profesional</td>\n",
              "      <td>Cadre</td>\n",
              "      <td>0</td>\n",
              "      <td>1</td>\n",
              "      <td>1825 Village Pl.</td>\n",
              "      <td>1 (11) 500 555-0162</td>\n",
              "      <td>2010-12-29T00:00:00.0000000</td>\n",
              "      <td>5-10 Miles</td>\n",
              "    </tr>\n",
              "    <tr>\n",
              "      <th>4</th>\n",
              "      <td>11004</td>\n",
              "      <td>19</td>\n",
              "      <td>AW00011004</td>\n",
              "      <td>Elizabeth</td>\n",
              "      <td>Johnson</td>\n",
              "      <td>False</td>\n",
              "      <td>1979-08-05T00:00:00.0000000</td>\n",
              "      <td>S</td>\n",
              "      <td>F</td>\n",
              "      <td>elizabeth5@adventure-works.com</td>\n",
              "      <td>80000.0</td>\n",
              "      <td>5</td>\n",
              "      <td>5</td>\n",
              "      <td>Bachelors</td>\n",
              "      <td>Licenciatura</td>\n",
              "      <td>Bac + 4</td>\n",
              "      <td>Professional</td>\n",
              "      <td>Profesional</td>\n",
              "      <td>Cadre</td>\n",
              "      <td>1</td>\n",
              "      <td>4</td>\n",
              "      <td>7553 Harness Circle</td>\n",
              "      <td>1 (11) 500 555-0131</td>\n",
              "      <td>2011-01-23T00:00:00.0000000</td>\n",
              "      <td>1-2 Miles</td>\n",
              "    </tr>\n",
              "  </tbody>\n",
              "</table>\n",
              "</div>"
            ],
            "text/plain": [
              "   CustomerKey  GeographyKey  ...            DateFirstPurchase CommuteDistance\n",
              "0        11000            26  ...  2011-01-19T00:00:00.0000000       1-2 Miles\n",
              "1        11001            37  ...  2011-01-15T00:00:00.0000000       0-1 Miles\n",
              "2        11002            31  ...  2011-01-07T00:00:00.0000000       2-5 Miles\n",
              "3        11003            11  ...  2010-12-29T00:00:00.0000000      5-10 Miles\n",
              "4        11004            19  ...  2011-01-23T00:00:00.0000000       1-2 Miles\n",
              "\n",
              "[5 rows x 25 columns]"
            ]
          },
          "metadata": {
            "tags": []
          },
          "execution_count": 35
        }
      ]
    },
    {
      "cell_type": "code",
      "metadata": {
        "id": "vF0CzJ0ZRs40"
      },
      "source": [
        "dff = dataNNa.drop(['CustomerAlternateKey','NameStyle','SpanishEducation','FrenchEducation','SpanishOccupation','FrenchOccupation','EmailAddress','AddressLine1','Phone','DateFirstPurchase','BirthDate','FirstName','LastName'],axis=1)"
      ],
      "execution_count": 36,
      "outputs": []
    },
    {
      "cell_type": "code",
      "metadata": {
        "id": "i-kCmRSITxqE",
        "outputId": "21590944-4354-430b-91ff-3d3b9169ee14",
        "colab": {
          "base_uri": "https://localhost:8080/",
          "height": 224
        }
      },
      "source": [
        "dff.head()"
      ],
      "execution_count": 37,
      "outputs": [
        {
          "output_type": "execute_result",
          "data": {
            "text/html": [
              "<div>\n",
              "<style scoped>\n",
              "    .dataframe tbody tr th:only-of-type {\n",
              "        vertical-align: middle;\n",
              "    }\n",
              "\n",
              "    .dataframe tbody tr th {\n",
              "        vertical-align: top;\n",
              "    }\n",
              "\n",
              "    .dataframe thead th {\n",
              "        text-align: right;\n",
              "    }\n",
              "</style>\n",
              "<table border=\"1\" class=\"dataframe\">\n",
              "  <thead>\n",
              "    <tr style=\"text-align: right;\">\n",
              "      <th></th>\n",
              "      <th>CustomerKey</th>\n",
              "      <th>GeographyKey</th>\n",
              "      <th>MaritalStatus</th>\n",
              "      <th>Gender</th>\n",
              "      <th>YearlyIncome</th>\n",
              "      <th>TotalChildren</th>\n",
              "      <th>NumberChildrenAtHome</th>\n",
              "      <th>EnglishEducation</th>\n",
              "      <th>EnglishOccupation</th>\n",
              "      <th>HouseOwnerFlag</th>\n",
              "      <th>NumberCarsOwned</th>\n",
              "      <th>CommuteDistance</th>\n",
              "    </tr>\n",
              "  </thead>\n",
              "  <tbody>\n",
              "    <tr>\n",
              "      <th>0</th>\n",
              "      <td>11000</td>\n",
              "      <td>26</td>\n",
              "      <td>M</td>\n",
              "      <td>M</td>\n",
              "      <td>90000.0</td>\n",
              "      <td>2</td>\n",
              "      <td>0</td>\n",
              "      <td>Bachelors</td>\n",
              "      <td>Professional</td>\n",
              "      <td>1</td>\n",
              "      <td>0</td>\n",
              "      <td>1-2 Miles</td>\n",
              "    </tr>\n",
              "    <tr>\n",
              "      <th>1</th>\n",
              "      <td>11001</td>\n",
              "      <td>37</td>\n",
              "      <td>S</td>\n",
              "      <td>M</td>\n",
              "      <td>60000.0</td>\n",
              "      <td>3</td>\n",
              "      <td>3</td>\n",
              "      <td>Bachelors</td>\n",
              "      <td>Professional</td>\n",
              "      <td>0</td>\n",
              "      <td>1</td>\n",
              "      <td>0-1 Miles</td>\n",
              "    </tr>\n",
              "    <tr>\n",
              "      <th>2</th>\n",
              "      <td>11002</td>\n",
              "      <td>31</td>\n",
              "      <td>M</td>\n",
              "      <td>M</td>\n",
              "      <td>60000.0</td>\n",
              "      <td>3</td>\n",
              "      <td>3</td>\n",
              "      <td>Bachelors</td>\n",
              "      <td>Professional</td>\n",
              "      <td>1</td>\n",
              "      <td>1</td>\n",
              "      <td>2-5 Miles</td>\n",
              "    </tr>\n",
              "    <tr>\n",
              "      <th>3</th>\n",
              "      <td>11003</td>\n",
              "      <td>11</td>\n",
              "      <td>S</td>\n",
              "      <td>F</td>\n",
              "      <td>70000.0</td>\n",
              "      <td>0</td>\n",
              "      <td>0</td>\n",
              "      <td>Bachelors</td>\n",
              "      <td>Professional</td>\n",
              "      <td>0</td>\n",
              "      <td>1</td>\n",
              "      <td>5-10 Miles</td>\n",
              "    </tr>\n",
              "    <tr>\n",
              "      <th>4</th>\n",
              "      <td>11004</td>\n",
              "      <td>19</td>\n",
              "      <td>S</td>\n",
              "      <td>F</td>\n",
              "      <td>80000.0</td>\n",
              "      <td>5</td>\n",
              "      <td>5</td>\n",
              "      <td>Bachelors</td>\n",
              "      <td>Professional</td>\n",
              "      <td>1</td>\n",
              "      <td>4</td>\n",
              "      <td>1-2 Miles</td>\n",
              "    </tr>\n",
              "  </tbody>\n",
              "</table>\n",
              "</div>"
            ],
            "text/plain": [
              "   CustomerKey  GeographyKey  ... NumberCarsOwned CommuteDistance\n",
              "0        11000            26  ...               0       1-2 Miles\n",
              "1        11001            37  ...               1       0-1 Miles\n",
              "2        11002            31  ...               1       2-5 Miles\n",
              "3        11003            11  ...               1      5-10 Miles\n",
              "4        11004            19  ...               4       1-2 Miles\n",
              "\n",
              "[5 rows x 12 columns]"
            ]
          },
          "metadata": {
            "tags": []
          },
          "execution_count": 37
        }
      ]
    },
    {
      "cell_type": "code",
      "metadata": {
        "id": "CgMHPn1hT9NS",
        "outputId": "1bc042f0-496d-4caf-8188-08088aab280b",
        "colab": {
          "base_uri": "https://localhost:8080/",
          "height": 353
        }
      },
      "source": [
        "sns.countplot(data['YearlyIncome'])"
      ],
      "execution_count": 38,
      "outputs": [
        {
          "output_type": "stream",
          "text": [
            "/usr/local/lib/python3.6/dist-packages/seaborn/_decorators.py:43: FutureWarning: Pass the following variable as a keyword arg: x. From version 0.12, the only valid positional argument will be `data`, and passing other arguments without an explicit keyword will result in an error or misinterpretation.\n",
            "  FutureWarning\n"
          ],
          "name": "stderr"
        },
        {
          "output_type": "execute_result",
          "data": {
            "text/plain": [
              "<matplotlib.axes._subplots.AxesSubplot at 0x7f7370b8f748>"
            ]
          },
          "metadata": {
            "tags": []
          },
          "execution_count": 38
        },
        {
          "output_type": "display_data",
          "data": {
            "image/png": "[encoded data removed]",
            "text/plain": [
              "<Figure size 432x288 with 1 Axes>"
            ]
          },
          "metadata": {
            "tags": [],
            "needs_background": "light"
          }
        }
      ]
    },
    {
      "cell_type": "code",
      "metadata": {
        "id": "sWVhqphzUb7H",
        "outputId": "8c15697a-adb3-43fe-88c6-1170afe9969a",
        "colab": {
          "base_uri": "https://localhost:8080/",
          "height": 353
        }
      },
      "source": [
        "sns.boxplot(data['YearlyIncome'])"
      ],
      "execution_count": 39,
      "outputs": [
        {
          "output_type": "stream",
          "text": [
            "/usr/local/lib/python3.6/dist-packages/seaborn/_decorators.py:43: FutureWarning: Pass the following variable as a keyword arg: x. From version 0.12, the only valid positional argument will be `data`, and passing other arguments without an explicit keyword will result in an error or misinterpretation.\n",
            "  FutureWarning\n"
          ],
          "name": "stderr"
        },
        {
          "output_type": "execute_result",
          "data": {
            "text/plain": [
              "<matplotlib.axes._subplots.AxesSubplot at 0x7f7370b23860>"
            ]
          },
          "metadata": {
            "tags": []
          },
          "execution_count": 39
        },
        {
          "output_type": "display_data",
          "data": {
            "image/png": "[encoded data removed]",
            "text/plain": [
              "<Figure size 432x288 with 1 Axes>"
            ]
          },
          "metadata": {
            "tags": [],
            "needs_background": "light"
          }
        }
      ]
    },
    {
      "cell_type": "code",
      "metadata": {
        "id": "uP27L_XPUze2"
      },
      "source": [
        "# g = sns.jointplot(x=\"CustomerKey\", y=\"YearlyIncome\", data=df,\n",
        "#                   kind=\"reg\", truncate=False,\n",
        "                  \n",
        "#                   color=\"m\")"
      ],
      "execution_count": 40,
      "outputs": []
    },
    {
      "cell_type": "code",
      "metadata": {
        "id": "7A-q4rO4wLO9"
      },
      "source": [
        ""
      ],
      "execution_count": 40,
      "outputs": []
    },
    {
      "cell_type": "markdown",
      "metadata": {
        "id": "t4xwFs1yVhNf"
      },
      "source": [
        "<=70K??????  (1=true, 0=false)"
      ]
    },
    {
      "cell_type": "code",
      "metadata": {
        "id": "9LYty_GwVga3"
      },
      "source": [
        "dff['<=70k'] = np.where(dff['YearlyIncome'] <= 70000, '<=70k' , '>70k')"
      ],
      "execution_count": 41,
      "outputs": []
    },
    {
      "cell_type": "code",
      "metadata": {
        "id": "zzCCzmplWoNz",
        "outputId": "05852958-e823-4171-ca81-96fa056e63e6",
        "colab": {
          "base_uri": "https://localhost:8080/",
          "height": 224
        }
      },
      "source": [
        "dff.head()"
      ],
      "execution_count": 42,
      "outputs": [
        {
          "output_type": "execute_result",
          "data": {
            "text/html": [
              "<div>\n",
              "<style scoped>\n",
              "    .dataframe tbody tr th:only-of-type {\n",
              "        vertical-align: middle;\n",
              "    }\n",
              "\n",
              "    .dataframe tbody tr th {\n",
              "        vertical-align: top;\n",
              "    }\n",
              "\n",
              "    .dataframe thead th {\n",
              "        text-align: right;\n",
              "    }\n",
              "</style>\n",
              "<table border=\"1\" class=\"dataframe\">\n",
              "  <thead>\n",
              "    <tr style=\"text-align: right;\">\n",
              "      <th></th>\n",
              "      <th>CustomerKey</th>\n",
              "      <th>GeographyKey</th>\n",
              "      <th>MaritalStatus</th>\n",
              "      <th>Gender</th>\n",
              "      <th>YearlyIncome</th>\n",
              "      <th>TotalChildren</th>\n",
              "      <th>NumberChildrenAtHome</th>\n",
              "      <th>EnglishEducation</th>\n",
              "      <th>EnglishOccupation</th>\n",
              "      <th>HouseOwnerFlag</th>\n",
              "      <th>NumberCarsOwned</th>\n",
              "      <th>CommuteDistance</th>\n",
              "      <th>&lt;=70k</th>\n",
              "    </tr>\n",
              "  </thead>\n",
              "  <tbody>\n",
              "    <tr>\n",
              "      <th>0</th>\n",
              "      <td>11000</td>\n",
              "      <td>26</td>\n",
              "      <td>M</td>\n",
              "      <td>M</td>\n",
              "      <td>90000.0</td>\n",
              "      <td>2</td>\n",
              "      <td>0</td>\n",
              "      <td>Bachelors</td>\n",
              "      <td>Professional</td>\n",
              "      <td>1</td>\n",
              "      <td>0</td>\n",
              "      <td>1-2 Miles</td>\n",
              "      <td>&gt;70k</td>\n",
              "    </tr>\n",
              "    <tr>\n",
              "      <th>1</th>\n",
              "      <td>11001</td>\n",
              "      <td>37</td>\n",
              "      <td>S</td>\n",
              "      <td>M</td>\n",
              "      <td>60000.0</td>\n",
              "      <td>3</td>\n",
              "      <td>3</td>\n",
              "      <td>Bachelors</td>\n",
              "      <td>Professional</td>\n",
              "      <td>0</td>\n",
              "      <td>1</td>\n",
              "      <td>0-1 Miles</td>\n",
              "      <td>&lt;=70k</td>\n",
              "    </tr>\n",
              "    <tr>\n",
              "      <th>2</th>\n",
              "      <td>11002</td>\n",
              "      <td>31</td>\n",
              "      <td>M</td>\n",
              "      <td>M</td>\n",
              "      <td>60000.0</td>\n",
              "      <td>3</td>\n",
              "      <td>3</td>\n",
              "      <td>Bachelors</td>\n",
              "      <td>Professional</td>\n",
              "      <td>1</td>\n",
              "      <td>1</td>\n",
              "      <td>2-5 Miles</td>\n",
              "      <td>&lt;=70k</td>\n",
              "    </tr>\n",
              "    <tr>\n",
              "      <th>3</th>\n",
              "      <td>11003</td>\n",
              "      <td>11</td>\n",
              "      <td>S</td>\n",
              "      <td>F</td>\n",
              "      <td>70000.0</td>\n",
              "      <td>0</td>\n",
              "      <td>0</td>\n",
              "      <td>Bachelors</td>\n",
              "      <td>Professional</td>\n",
              "      <td>0</td>\n",
              "      <td>1</td>\n",
              "      <td>5-10 Miles</td>\n",
              "      <td>&lt;=70k</td>\n",
              "    </tr>\n",
              "    <tr>\n",
              "      <th>4</th>\n",
              "      <td>11004</td>\n",
              "      <td>19</td>\n",
              "      <td>S</td>\n",
              "      <td>F</td>\n",
              "      <td>80000.0</td>\n",
              "      <td>5</td>\n",
              "      <td>5</td>\n",
              "      <td>Bachelors</td>\n",
              "      <td>Professional</td>\n",
              "      <td>1</td>\n",
              "      <td>4</td>\n",
              "      <td>1-2 Miles</td>\n",
              "      <td>&gt;70k</td>\n",
              "    </tr>\n",
              "  </tbody>\n",
              "</table>\n",
              "</div>"
            ],
            "text/plain": [
              "   CustomerKey  GeographyKey  ... CommuteDistance  <=70k\n",
              "0        11000            26  ...       1-2 Miles   >70k\n",
              "1        11001            37  ...       0-1 Miles  <=70k\n",
              "2        11002            31  ...       2-5 Miles  <=70k\n",
              "3        11003            11  ...      5-10 Miles  <=70k\n",
              "4        11004            19  ...       1-2 Miles   >70k\n",
              "\n",
              "[5 rows x 13 columns]"
            ]
          },
          "metadata": {
            "tags": []
          },
          "execution_count": 42
        }
      ]
    },
    {
      "cell_type": "code",
      "metadata": {
        "id": "zsjbEipqNQu4",
        "outputId": "4b56938a-d862-467c-e0b9-74d4ead4066d",
        "colab": {
          "base_uri": "https://localhost:8080/",
          "height": 224
        }
      },
      "source": [
        "df = dff.drop('YearlyIncome', axis=1)\n",
        "df.head()"
      ],
      "execution_count": 43,
      "outputs": [
        {
          "output_type": "execute_result",
          "data": {
            "text/html": [
              "<div>\n",
              "<style scoped>\n",
              "    .dataframe tbody tr th:only-of-type {\n",
              "        vertical-align: middle;\n",
              "    }\n",
              "\n",
              "    .dataframe tbody tr th {\n",
              "        vertical-align: top;\n",
              "    }\n",
              "\n",
              "    .dataframe thead th {\n",
              "        text-align: right;\n",
              "    }\n",
              "</style>\n",
              "<table border=\"1\" class=\"dataframe\">\n",
              "  <thead>\n",
              "    <tr style=\"text-align: right;\">\n",
              "      <th></th>\n",
              "      <th>CustomerKey</th>\n",
              "      <th>GeographyKey</th>\n",
              "      <th>MaritalStatus</th>\n",
              "      <th>Gender</th>\n",
              "      <th>TotalChildren</th>\n",
              "      <th>NumberChildrenAtHome</th>\n",
              "      <th>EnglishEducation</th>\n",
              "      <th>EnglishOccupation</th>\n",
              "      <th>HouseOwnerFlag</th>\n",
              "      <th>NumberCarsOwned</th>\n",
              "      <th>CommuteDistance</th>\n",
              "      <th>&lt;=70k</th>\n",
              "    </tr>\n",
              "  </thead>\n",
              "  <tbody>\n",
              "    <tr>\n",
              "      <th>0</th>\n",
              "      <td>11000</td>\n",
              "      <td>26</td>\n",
              "      <td>M</td>\n",
              "      <td>M</td>\n",
              "      <td>2</td>\n",
              "      <td>0</td>\n",
              "      <td>Bachelors</td>\n",
              "      <td>Professional</td>\n",
              "      <td>1</td>\n",
              "      <td>0</td>\n",
              "      <td>1-2 Miles</td>\n",
              "      <td>&gt;70k</td>\n",
              "    </tr>\n",
              "    <tr>\n",
              "      <th>1</th>\n",
              "      <td>11001</td>\n",
              "      <td>37</td>\n",
              "      <td>S</td>\n",
              "      <td>M</td>\n",
              "      <td>3</td>\n",
              "      <td>3</td>\n",
              "      <td>Bachelors</td>\n",
              "      <td>Professional</td>\n",
              "      <td>0</td>\n",
              "      <td>1</td>\n",
              "      <td>0-1 Miles</td>\n",
              "      <td>&lt;=70k</td>\n",
              "    </tr>\n",
              "    <tr>\n",
              "      <th>2</th>\n",
              "      <td>11002</td>\n",
              "      <td>31</td>\n",
              "      <td>M</td>\n",
              "      <td>M</td>\n",
              "      <td>3</td>\n",
              "      <td>3</td>\n",
              "      <td>Bachelors</td>\n",
              "      <td>Professional</td>\n",
              "      <td>1</td>\n",
              "      <td>1</td>\n",
              "      <td>2-5 Miles</td>\n",
              "      <td>&lt;=70k</td>\n",
              "    </tr>\n",
              "    <tr>\n",
              "      <th>3</th>\n",
              "      <td>11003</td>\n",
              "      <td>11</td>\n",
              "      <td>S</td>\n",
              "      <td>F</td>\n",
              "      <td>0</td>\n",
              "      <td>0</td>\n",
              "      <td>Bachelors</td>\n",
              "      <td>Professional</td>\n",
              "      <td>0</td>\n",
              "      <td>1</td>\n",
              "      <td>5-10 Miles</td>\n",
              "      <td>&lt;=70k</td>\n",
              "    </tr>\n",
              "    <tr>\n",
              "      <th>4</th>\n",
              "      <td>11004</td>\n",
              "      <td>19</td>\n",
              "      <td>S</td>\n",
              "      <td>F</td>\n",
              "      <td>5</td>\n",
              "      <td>5</td>\n",
              "      <td>Bachelors</td>\n",
              "      <td>Professional</td>\n",
              "      <td>1</td>\n",
              "      <td>4</td>\n",
              "      <td>1-2 Miles</td>\n",
              "      <td>&gt;70k</td>\n",
              "    </tr>\n",
              "  </tbody>\n",
              "</table>\n",
              "</div>"
            ],
            "text/plain": [
              "   CustomerKey  GeographyKey  ... CommuteDistance  <=70k\n",
              "0        11000            26  ...       1-2 Miles   >70k\n",
              "1        11001            37  ...       0-1 Miles  <=70k\n",
              "2        11002            31  ...       2-5 Miles  <=70k\n",
              "3        11003            11  ...      5-10 Miles  <=70k\n",
              "4        11004            19  ...       1-2 Miles   >70k\n",
              "\n",
              "[5 rows x 12 columns]"
            ]
          },
          "metadata": {
            "tags": []
          },
          "execution_count": 43
        }
      ]
    },
    {
      "cell_type": "code",
      "metadata": {
        "id": "IjNputjiXBro",
        "outputId": "341dae25-412b-487a-e7bb-5f973609ec97",
        "colab": {
          "base_uri": "https://localhost:8080/",
          "height": 297
        }
      },
      "source": [
        "df.describe()"
      ],
      "execution_count": 44,
      "outputs": [
        {
          "output_type": "execute_result",
          "data": {
            "text/html": [
              "<div>\n",
              "<style scoped>\n",
              "    .dataframe tbody tr th:only-of-type {\n",
              "        vertical-align: middle;\n",
              "    }\n",
              "\n",
              "    .dataframe tbody tr th {\n",
              "        vertical-align: top;\n",
              "    }\n",
              "\n",
              "    .dataframe thead th {\n",
              "        text-align: right;\n",
              "    }\n",
              "</style>\n",
              "<table border=\"1\" class=\"dataframe\">\n",
              "  <thead>\n",
              "    <tr style=\"text-align: right;\">\n",
              "      <th></th>\n",
              "      <th>CustomerKey</th>\n",
              "      <th>GeographyKey</th>\n",
              "      <th>TotalChildren</th>\n",
              "      <th>NumberChildrenAtHome</th>\n",
              "      <th>HouseOwnerFlag</th>\n",
              "      <th>NumberCarsOwned</th>\n",
              "    </tr>\n",
              "  </thead>\n",
              "  <tbody>\n",
              "    <tr>\n",
              "      <th>count</th>\n",
              "      <td>18484.000000</td>\n",
              "      <td>18484.000000</td>\n",
              "      <td>18484.000000</td>\n",
              "      <td>18484.000000</td>\n",
              "      <td>18484.000000</td>\n",
              "      <td>18484.000000</td>\n",
              "    </tr>\n",
              "    <tr>\n",
              "      <th>mean</th>\n",
              "      <td>20241.500000</td>\n",
              "      <td>257.956287</td>\n",
              "      <td>1.844352</td>\n",
              "      <td>1.004058</td>\n",
              "      <td>0.676369</td>\n",
              "      <td>1.502705</td>\n",
              "    </tr>\n",
              "    <tr>\n",
              "      <th>std</th>\n",
              "      <td>5336.015523</td>\n",
              "      <td>196.531062</td>\n",
              "      <td>1.612408</td>\n",
              "      <td>1.522660</td>\n",
              "      <td>0.467874</td>\n",
              "      <td>1.138394</td>\n",
              "    </tr>\n",
              "    <tr>\n",
              "      <th>min</th>\n",
              "      <td>11000.000000</td>\n",
              "      <td>2.000000</td>\n",
              "      <td>0.000000</td>\n",
              "      <td>0.000000</td>\n",
              "      <td>0.000000</td>\n",
              "      <td>0.000000</td>\n",
              "    </tr>\n",
              "    <tr>\n",
              "      <th>25%</th>\n",
              "      <td>15620.750000</td>\n",
              "      <td>62.000000</td>\n",
              "      <td>0.000000</td>\n",
              "      <td>0.000000</td>\n",
              "      <td>0.000000</td>\n",
              "      <td>1.000000</td>\n",
              "    </tr>\n",
              "    <tr>\n",
              "      <th>50%</th>\n",
              "      <td>20241.500000</td>\n",
              "      <td>240.000000</td>\n",
              "      <td>2.000000</td>\n",
              "      <td>0.000000</td>\n",
              "      <td>1.000000</td>\n",
              "      <td>2.000000</td>\n",
              "    </tr>\n",
              "    <tr>\n",
              "      <th>75%</th>\n",
              "      <td>24862.250000</td>\n",
              "      <td>345.000000</td>\n",
              "      <td>3.000000</td>\n",
              "      <td>2.000000</td>\n",
              "      <td>1.000000</td>\n",
              "      <td>2.000000</td>\n",
              "    </tr>\n",
              "    <tr>\n",
              "      <th>max</th>\n",
              "      <td>29483.000000</td>\n",
              "      <td>654.000000</td>\n",
              "      <td>5.000000</td>\n",
              "      <td>5.000000</td>\n",
              "      <td>1.000000</td>\n",
              "      <td>4.000000</td>\n",
              "    </tr>\n",
              "  </tbody>\n",
              "</table>\n",
              "</div>"
            ],
            "text/plain": [
              "        CustomerKey  GeographyKey  ...  HouseOwnerFlag  NumberCarsOwned\n",
              "count  18484.000000  18484.000000  ...    18484.000000     18484.000000\n",
              "mean   20241.500000    257.956287  ...        0.676369         1.502705\n",
              "std     5336.015523    196.531062  ...        0.467874         1.138394\n",
              "min    11000.000000      2.000000  ...        0.000000         0.000000\n",
              "25%    15620.750000     62.000000  ...        0.000000         1.000000\n",
              "50%    20241.500000    240.000000  ...        1.000000         2.000000\n",
              "75%    24862.250000    345.000000  ...        1.000000         2.000000\n",
              "max    29483.000000    654.000000  ...        1.000000         4.000000\n",
              "\n",
              "[8 rows x 6 columns]"
            ]
          },
          "metadata": {
            "tags": []
          },
          "execution_count": 44
        }
      ]
    },
    {
      "cell_type": "code",
      "metadata": {
        "id": "Se4nDc8lWqmq",
        "outputId": "5c6fa471-63ef-46da-e399-05d3892034c5",
        "colab": {
          "base_uri": "https://localhost:8080/",
          "height": 353
        }
      },
      "source": [
        "sns.countplot(df['<=70k'])"
      ],
      "execution_count": 45,
      "outputs": [
        {
          "output_type": "stream",
          "text": [
            "/usr/local/lib/python3.6/dist-packages/seaborn/_decorators.py:43: FutureWarning: Pass the following variable as a keyword arg: x. From version 0.12, the only valid positional argument will be `data`, and passing other arguments without an explicit keyword will result in an error or misinterpretation.\n",
            "  FutureWarning\n"
          ],
          "name": "stderr"
        },
        {
          "output_type": "execute_result",
          "data": {
            "text/plain": [
              "<matplotlib.axes._subplots.AxesSubplot at 0x7f736fedf780>"
            ]
          },
          "metadata": {
            "tags": []
          },
          "execution_count": 45
        },
        {
          "output_type": "display_data",
          "data": {
            "image/png": "[encoded data removed]",
            "text/plain": [
              "<Figure size 432x288 with 1 Axes>"
            ]
          },
          "metadata": {
            "tags": [],
            "needs_background": "light"
          }
        }
      ]
    },
    {
      "cell_type": "code",
      "metadata": {
        "id": "QqmYp10mX3TK",
        "outputId": "afd9e460-d721-4651-e80a-ec39b560734e",
        "colab": {
          "base_uri": "https://localhost:8080/",
          "height": 241
        }
      },
      "source": [
        "df = pd.get_dummies(df)\n",
        "df.head()"
      ],
      "execution_count": 46,
      "outputs": [
        {
          "output_type": "execute_result",
          "data": {
            "text/html": [
              "<div>\n",
              "<style scoped>\n",
              "    .dataframe tbody tr th:only-of-type {\n",
              "        vertical-align: middle;\n",
              "    }\n",
              "\n",
              "    .dataframe tbody tr th {\n",
              "        vertical-align: top;\n",
              "    }\n",
              "\n",
              "    .dataframe thead th {\n",
              "        text-align: right;\n",
              "    }\n",
              "</style>\n",
              "<table border=\"1\" class=\"dataframe\">\n",
              "  <thead>\n",
              "    <tr style=\"text-align: right;\">\n",
              "      <th></th>\n",
              "      <th>CustomerKey</th>\n",
              "      <th>GeographyKey</th>\n",
              "      <th>TotalChildren</th>\n",
              "      <th>NumberChildrenAtHome</th>\n",
              "      <th>HouseOwnerFlag</th>\n",
              "      <th>NumberCarsOwned</th>\n",
              "      <th>MaritalStatus_M</th>\n",
              "      <th>MaritalStatus_S</th>\n",
              "      <th>Gender_F</th>\n",
              "      <th>Gender_M</th>\n",
              "      <th>EnglishEducation_Bachelors</th>\n",
              "      <th>EnglishEducation_Graduate Degree</th>\n",
              "      <th>EnglishEducation_High School</th>\n",
              "      <th>EnglishEducation_Partial College</th>\n",
              "      <th>EnglishEducation_Partial High School</th>\n",
              "      <th>EnglishOccupation_Clerical</th>\n",
              "      <th>EnglishOccupation_Management</th>\n",
              "      <th>EnglishOccupation_Manual</th>\n",
              "      <th>EnglishOccupation_Professional</th>\n",
              "      <th>EnglishOccupation_Skilled Manual</th>\n",
              "      <th>CommuteDistance_0-1 Miles</th>\n",
              "      <th>CommuteDistance_1-2 Miles</th>\n",
              "      <th>CommuteDistance_10+ Miles</th>\n",
              "      <th>CommuteDistance_2-5 Miles</th>\n",
              "      <th>CommuteDistance_5-10 Miles</th>\n",
              "      <th>&lt;=70k_&lt;=70k</th>\n",
              "      <th>&lt;=70k_&gt;70k</th>\n",
              "    </tr>\n",
              "  </thead>\n",
              "  <tbody>\n",
              "    <tr>\n",
              "      <th>0</th>\n",
              "      <td>11000</td>\n",
              "      <td>26</td>\n",
              "      <td>2</td>\n",
              "      <td>0</td>\n",
              "      <td>1</td>\n",
              "      <td>0</td>\n",
              "      <td>1</td>\n",
              "      <td>0</td>\n",
              "      <td>0</td>\n",
              "      <td>1</td>\n",
              "      <td>1</td>\n",
              "      <td>0</td>\n",
              "      <td>0</td>\n",
              "      <td>0</td>\n",
              "      <td>0</td>\n",
              "      <td>0</td>\n",
              "      <td>0</td>\n",
              "      <td>0</td>\n",
              "      <td>1</td>\n",
              "      <td>0</td>\n",
              "      <td>0</td>\n",
              "      <td>1</td>\n",
              "      <td>0</td>\n",
              "      <td>0</td>\n",
              "      <td>0</td>\n",
              "      <td>0</td>\n",
              "      <td>1</td>\n",
              "    </tr>\n",
              "    <tr>\n",
              "      <th>1</th>\n",
              "      <td>11001</td>\n",
              "      <td>37</td>\n",
              "      <td>3</td>\n",
              "      <td>3</td>\n",
              "      <td>0</td>\n",
              "      <td>1</td>\n",
              "      <td>0</td>\n",
              "      <td>1</td>\n",
              "      <td>0</td>\n",
              "      <td>1</td>\n",
              "      <td>1</td>\n",
              "      <td>0</td>\n",
              "      <td>0</td>\n",
              "      <td>0</td>\n",
              "      <td>0</td>\n",
              "      <td>0</td>\n",
              "      <td>0</td>\n",
              "      <td>0</td>\n",
              "      <td>1</td>\n",
              "      <td>0</td>\n",
              "      <td>1</td>\n",
              "      <td>0</td>\n",
              "      <td>0</td>\n",
              "      <td>0</td>\n",
              "      <td>0</td>\n",
              "      <td>1</td>\n",
              "      <td>0</td>\n",
              "    </tr>\n",
              "    <tr>\n",
              "      <th>2</th>\n",
              "      <td>11002</td>\n",
              "      <td>31</td>\n",
              "      <td>3</td>\n",
              "      <td>3</td>\n",
              "      <td>1</td>\n",
              "      <td>1</td>\n",
              "      <td>1</td>\n",
              "      <td>0</td>\n",
              "      <td>0</td>\n",
              "      <td>1</td>\n",
              "      <td>1</td>\n",
              "      <td>0</td>\n",
              "      <td>0</td>\n",
              "      <td>0</td>\n",
              "      <td>0</td>\n",
              "      <td>0</td>\n",
              "      <td>0</td>\n",
              "      <td>0</td>\n",
              "      <td>1</td>\n",
              "      <td>0</td>\n",
              "      <td>0</td>\n",
              "      <td>0</td>\n",
              "      <td>0</td>\n",
              "      <td>1</td>\n",
              "      <td>0</td>\n",
              "      <td>1</td>\n",
              "      <td>0</td>\n",
              "    </tr>\n",
              "    <tr>\n",
              "      <th>3</th>\n",
              "      <td>11003</td>\n",
              "      <td>11</td>\n",
              "      <td>0</td>\n",
              "      <td>0</td>\n",
              "      <td>0</td>\n",
              "      <td>1</td>\n",
              "      <td>0</td>\n",
              "      <td>1</td>\n",
              "      <td>1</td>\n",
              "      <td>0</td>\n",
              "      <td>1</td>\n",
              "      <td>0</td>\n",
              "      <td>0</td>\n",
              "      <td>0</td>\n",
              "      <td>0</td>\n",
              "      <td>0</td>\n",
              "      <td>0</td>\n",
              "      <td>0</td>\n",
              "      <td>1</td>\n",
              "      <td>0</td>\n",
              "      <td>0</td>\n",
              "      <td>0</td>\n",
              "      <td>0</td>\n",
              "      <td>0</td>\n",
              "      <td>1</td>\n",
              "      <td>1</td>\n",
              "      <td>0</td>\n",
              "    </tr>\n",
              "    <tr>\n",
              "      <th>4</th>\n",
              "      <td>11004</td>\n",
              "      <td>19</td>\n",
              "      <td>5</td>\n",
              "      <td>5</td>\n",
              "      <td>1</td>\n",
              "      <td>4</td>\n",
              "      <td>0</td>\n",
              "      <td>1</td>\n",
              "      <td>1</td>\n",
              "      <td>0</td>\n",
              "      <td>1</td>\n",
              "      <td>0</td>\n",
              "      <td>0</td>\n",
              "      <td>0</td>\n",
              "      <td>0</td>\n",
              "      <td>0</td>\n",
              "      <td>0</td>\n",
              "      <td>0</td>\n",
              "      <td>1</td>\n",
              "      <td>0</td>\n",
              "      <td>0</td>\n",
              "      <td>1</td>\n",
              "      <td>0</td>\n",
              "      <td>0</td>\n",
              "      <td>0</td>\n",
              "      <td>0</td>\n",
              "      <td>1</td>\n",
              "    </tr>\n",
              "  </tbody>\n",
              "</table>\n",
              "</div>"
            ],
            "text/plain": [
              "   CustomerKey  GeographyKey  ...  <=70k_<=70k  <=70k_>70k\n",
              "0        11000            26  ...            0           1\n",
              "1        11001            37  ...            1           0\n",
              "2        11002            31  ...            1           0\n",
              "3        11003            11  ...            1           0\n",
              "4        11004            19  ...            0           1\n",
              "\n",
              "[5 rows x 27 columns]"
            ]
          },
          "metadata": {
            "tags": []
          },
          "execution_count": 46
        }
      ]
    },
    {
      "cell_type": "code",
      "metadata": {
        "id": "P5jst5V3YcpC"
      },
      "source": [
        "# pd.set_option(\"display.max.row\", None)"
      ],
      "execution_count": 47,
      "outputs": []
    },
    {
      "cell_type": "code",
      "metadata": {
        "id": "fd3_Fq4KXWgH",
        "outputId": "c7bbc234-d850-467a-8c18-6e9225e9a544",
        "colab": {
          "base_uri": "https://localhost:8080/"
        }
      },
      "source": [
        "cor = df.corrwith(df['<=70k_<=70k'])\n",
        "cor"
      ],
      "execution_count": 48,
      "outputs": [
        {
          "output_type": "execute_result",
          "data": {
            "text/plain": [
              "CustomerKey                             0.045058\n",
              "GeographyKey                            0.085499\n",
              "TotalChildren                          -0.182019\n",
              "NumberChildrenAtHome                   -0.422935\n",
              "HouseOwnerFlag                         -0.017987\n",
              "NumberCarsOwned                        -0.429020\n",
              "MaritalStatus_M                        -0.055579\n",
              "MaritalStatus_S                         0.055579\n",
              "Gender_F                                0.003857\n",
              "Gender_M                               -0.003857\n",
              "EnglishEducation_Bachelors             -0.075222\n",
              "EnglishEducation_Graduate Degree       -0.018849\n",
              "EnglishEducation_High School            0.025565\n",
              "EnglishEducation_Partial College        0.036658\n",
              "EnglishEducation_Partial High School    0.054040\n",
              "EnglishOccupation_Clerical              0.241842\n",
              "EnglishOccupation_Management           -0.421530\n",
              "EnglishOccupation_Manual                0.214504\n",
              "EnglishOccupation_Professional         -0.185502\n",
              "EnglishOccupation_Skilled Manual        0.189232\n",
              "CommuteDistance_0-1 Miles               0.086899\n",
              "CommuteDistance_1-2 Miles               0.049301\n",
              "CommuteDistance_10+ Miles              -0.190547\n",
              "CommuteDistance_2-5 Miles               0.044091\n",
              "CommuteDistance_5-10 Miles             -0.030563\n",
              "<=70k_<=70k                             1.000000\n",
              "<=70k_>70k                             -1.000000\n",
              "dtype: float64"
            ]
          },
          "metadata": {
            "tags": []
          },
          "execution_count": 48
        }
      ]
    },
    {
      "cell_type": "code",
      "metadata": {
        "id": "wlttevvHYwyQ",
        "outputId": "047bd244-d172-46e8-e99a-9aba8c40a29e",
        "colab": {
          "base_uri": "https://localhost:8080/"
        }
      },
      "source": [
        "impactFeatures = cor[((cor > 0.3))]\n",
        "impactFeatures"
      ],
      "execution_count": 49,
      "outputs": [
        {
          "output_type": "execute_result",
          "data": {
            "text/plain": [
              "<=70k_<=70k    1.0\n",
              "dtype: float64"
            ]
          },
          "metadata": {
            "tags": []
          },
          "execution_count": 49
        }
      ]
    },
    {
      "cell_type": "code",
      "metadata": {
        "id": "_Q0prKOucEm8",
        "outputId": "a399d1e4-5e7b-449b-e139-718360b8ee0f",
        "colab": {
          "base_uri": "https://localhost:8080/"
        }
      },
      "source": [
        "impactFeatures = cor[((cor < -0.3))]\n",
        "impactFeatures"
      ],
      "execution_count": 50,
      "outputs": [
        {
          "output_type": "execute_result",
          "data": {
            "text/plain": [
              "NumberChildrenAtHome           -0.422935\n",
              "NumberCarsOwned                -0.429020\n",
              "EnglishOccupation_Management   -0.421530\n",
              "<=70k_>70k                     -1.000000\n",
              "dtype: float64"
            ]
          },
          "metadata": {
            "tags": []
          },
          "execution_count": 50
        }
      ]
    },
    {
      "cell_type": "code",
      "metadata": {
        "id": "9FIi2lkeG_ZB",
        "outputId": "ac9a54c8-1cb1-44a4-bcfa-51e8c22f18fe",
        "colab": {
          "base_uri": "https://localhost:8080/",
          "height": 283
        }
      },
      "source": [
        "sns.histplot(cor)"
      ],
      "execution_count": 51,
      "outputs": [
        {
          "output_type": "execute_result",
          "data": {
            "text/plain": [
              "<matplotlib.axes._subplots.AxesSubplot at 0x7f736febb080>"
            ]
          },
          "metadata": {
            "tags": []
          },
          "execution_count": 51
        },
        {
          "output_type": "display_data",
          "data": {
            "image/png": "[encoded data removed]",
            "text/plain": [
              "<Figure size 432x288 with 1 Axes>"
            ]
          },
          "metadata": {
            "tags": [],
            "needs_background": "light"
          }
        }
      ]
    },
    {
      "cell_type": "code",
      "metadata": {
        "id": "J0o9zYEsH6Or",
        "outputId": "7086e5b1-2399-4bcf-e35a-2f9427b56059",
        "colab": {
          "base_uri": "https://localhost:8080/",
          "height": 339
        }
      },
      "source": [
        "sns.distplot(cor)"
      ],
      "execution_count": 52,
      "outputs": [
        {
          "output_type": "stream",
          "text": [
            "/usr/local/lib/python3.6/dist-packages/seaborn/distributions.py:2551: FutureWarning: `distplot` is a deprecated function and will be removed in a future version. Please adapt your code to use either `displot` (a figure-level function with similar flexibility) or `histplot` (an axes-level function for histograms).\n",
            "  warnings.warn(msg, FutureWarning)\n"
          ],
          "name": "stderr"
        },
        {
          "output_type": "execute_result",
          "data": {
            "text/plain": [
              "<matplotlib.axes._subplots.AxesSubplot at 0x7f736fe02d68>"
            ]
          },
          "metadata": {
            "tags": []
          },
          "execution_count": 52
        },
        {
          "output_type": "display_data",
          "data": {
            "image/png": "[encoded data removed]",
            "text/plain": [
              "<Figure size 432x288 with 1 Axes>"
            ]
          },
          "metadata": {
            "tags": [],
            "needs_background": "light"
          }
        }
      ]
    },
    {
      "cell_type": "code",
      "metadata": {
        "id": "AGIyl8RfICRu",
        "outputId": "3d0cb600-f728-40dc-91b7-fb9dd83375ae",
        "colab": {
          "base_uri": "https://localhost:8080/",
          "height": 323
        }
      },
      "source": [
        "sns.histplot(cor, kde=True , log_scale=True)"
      ],
      "execution_count": 53,
      "outputs": [
        {
          "output_type": "stream",
          "text": [
            "/usr/local/lib/python3.6/dist-packages/pandas/core/series.py:726: RuntimeWarning: invalid value encountered in log10\n",
            "  result = getattr(ufunc, method)(*inputs, **kwargs)\n"
          ],
          "name": "stderr"
        },
        {
          "output_type": "execute_result",
          "data": {
            "text/plain": [
              "<matplotlib.axes._subplots.AxesSubplot at 0x7f736fcd7b70>"
            ]
          },
          "metadata": {
            "tags": []
          },
          "execution_count": 53
        },
        {
          "output_type": "display_data",
          "data": {
            "image/png": "[encoded data removed]",
            "text/plain": [
              "<Figure size 432x288 with 1 Axes>"
            ]
          },
          "metadata": {
            "tags": [],
            "needs_background": "light"
          }
        }
      ]
    },
    {
      "cell_type": "code",
      "metadata": {
        "id": "w3ciBFWzINBS",
        "outputId": "991c63ed-fbcd-4cb0-e8fe-d75d01332d42",
        "colab": {
          "base_uri": "https://localhost:8080/",
          "height": 283
        }
      },
      "source": [
        "sns.histplot(cor, element=\"step\")"
      ],
      "execution_count": 54,
      "outputs": [
        {
          "output_type": "execute_result",
          "data": {
            "text/plain": [
              "<matplotlib.axes._subplots.AxesSubplot at 0x7f73739209e8>"
            ]
          },
          "metadata": {
            "tags": []
          },
          "execution_count": 54
        },
        {
          "output_type": "display_data",
          "data": {
            "image/png": "[encoded data removed]",
            "text/plain": [
              "<Figure size 432x288 with 1 Axes>"
            ]
          },
          "metadata": {
            "tags": [],
            "needs_background": "light"
          }
        }
      ]
    },
    {
      "cell_type": "markdown",
      "metadata": {
        "id": "3z5cthkvcg4r"
      },
      "source": [
        "With Cleaned Dataset"
      ]
    },
    {
      "cell_type": "code",
      "metadata": {
        "id": "dJcUrK5ybZMR",
        "outputId": "6cc76e4a-c5a4-4064-90a6-d406dd5c68f4",
        "colab": {
          "base_uri": "https://localhost:8080/"
        }
      },
      "source": [
        "df.shape"
      ],
      "execution_count": 55,
      "outputs": [
        {
          "output_type": "execute_result",
          "data": {
            "text/plain": [
              "(18484, 27)"
            ]
          },
          "metadata": {
            "tags": []
          },
          "execution_count": 55
        }
      ]
    },
    {
      "cell_type": "code",
      "metadata": {
        "id": "lZJK-9V9csM0"
      },
      "source": [
        "X = df.drop(['<=70k_<=70k','<=70k_>70k'], axis=1).values\n",
        "y = df.loc[:, '<=70k_<=70k']"
      ],
      "execution_count": 56,
      "outputs": []
    },
    {
      "cell_type": "code",
      "metadata": {
        "id": "h0ZSbcYrbNph",
        "outputId": "a3b135ac-e04b-4ac5-c728-41d924766b84",
        "colab": {
          "base_uri": "https://localhost:8080/"
        }
      },
      "source": [
        "X.shape"
      ],
      "execution_count": 57,
      "outputs": [
        {
          "output_type": "execute_result",
          "data": {
            "text/plain": [
              "(18484, 25)"
            ]
          },
          "metadata": {
            "tags": []
          },
          "execution_count": 57
        }
      ]
    },
    {
      "cell_type": "code",
      "metadata": {
        "id": "1_77zmm6bTrI",
        "outputId": "becca8b7-b018-498f-d64b-9e1f3a47433c",
        "colab": {
          "base_uri": "https://localhost:8080/"
        }
      },
      "source": [
        "y.shape"
      ],
      "execution_count": 58,
      "outputs": [
        {
          "output_type": "execute_result",
          "data": {
            "text/plain": [
              "(18484,)"
            ]
          },
          "metadata": {
            "tags": []
          },
          "execution_count": 58
        }
      ]
    },
    {
      "cell_type": "code",
      "metadata": {
        "id": "ESt6Yimnc6C3"
      },
      "source": [
        "from sklearn.model_selection import train_test_split\n",
        "X_train, X_test, y_train, y_test = train_test_split(X, y, test_size=0.2, random_state=0)"
      ],
      "execution_count": 59,
      "outputs": []
    },
    {
      "cell_type": "code",
      "metadata": {
        "id": "JvXZXMIbc7uV"
      },
      "source": [
        "import numpy as np\n",
        "import pandas as pd\n",
        "from sklearn.model_selection import train_test_split\n",
        "from sklearn.metrics import accuracy_score,mean_squared_error, r2_score\n",
        "from sklearn.metrics import classification_report, confusion_matrix\n",
        "from sklearn import preprocessing\n",
        "from sklearn import svm\n",
        "from sklearn.svm import SVC"
      ],
      "execution_count": 60,
      "outputs": []
    },
    {
      "cell_type": "code",
      "metadata": {
        "id": "KmxoHSaOc9o9"
      },
      "source": [
        "from sklearn import preprocessing\n",
        "scaler = preprocessing.StandardScaler().fit(X_train)\n",
        "X_train_scaled = scaler.transform(X_train)\n",
        "X_test_scaled = scaler.transform(X_test)"
      ],
      "execution_count": 61,
      "outputs": []
    },
    {
      "cell_type": "markdown",
      "metadata": {
        "id": "rY5wwe19dDZk"
      },
      "source": [
        "# linear"
      ]
    },
    {
      "cell_type": "code",
      "metadata": {
        "id": "Q3zMnnD6dEI0"
      },
      "source": [
        "linear_svm_scaled = svm.SVC(kernel='linear')\n",
        "linear_svm_scaled.fit(X_train_scaled, y_train)\n",
        "\n",
        "y_pred_scaled_linear = linear_svm_scaled.predict(X_test_scaled)\n",
        "\n"
      ],
      "execution_count": 62,
      "outputs": []
    },
    {
      "cell_type": "code",
      "metadata": {
        "id": "tyayjJ_-doPD",
        "outputId": "86cdd8e7-c890-4596-9c2f-7fca3e6d0d98",
        "colab": {
          "base_uri": "https://localhost:8080/"
        }
      },
      "source": [
        "import numpy as np\n",
        "from sklearn.metrics import confusion_matrix\n",
        "print('\\nStandardize')\n",
        "print('Accuracy of SVM classifier on training set: {:.4f}'.format(linear_svm_scaled.score(X_train_scaled, y_train)*100))\n",
        "print('Accuracy of SVM classifier on test set: {:.4f}'.format(linear_svm_scaled.score(X_test_scaled, y_test)*100))\n",
        "print(classification_report(y_test,y_pred_scaled_linear))\n",
        "print(confusion_matrix(y_test,y_pred_scaled_linear))"
      ],
      "execution_count": 63,
      "outputs": [
        {
          "output_type": "stream",
          "text": [
            "\n",
            "Standardize\n",
            "Accuracy of SVM classifier on training set: 89.7545\n",
            "Accuracy of SVM classifier on test set: 89.0181\n",
            "              precision    recall  f1-score   support\n",
            "\n",
            "           0       0.91      0.58      0.71       863\n",
            "           1       0.89      0.98      0.93      2834\n",
            "\n",
            "    accuracy                           0.89      3697\n",
            "   macro avg       0.90      0.78      0.82      3697\n",
            "weighted avg       0.89      0.89      0.88      3697\n",
            "\n",
            "[[ 504  359]\n",
            " [  47 2787]]\n"
          ],
          "name": "stdout"
        }
      ]
    },
    {
      "cell_type": "markdown",
      "metadata": {
        "id": "gzk6MEZCdGVv"
      },
      "source": [
        "# rbf"
      ]
    },
    {
      "cell_type": "code",
      "metadata": {
        "id": "T5-7umJWdIh3"
      },
      "source": [
        "rbf_svm_scaled = svm.SVC(kernel='rbf')\n",
        "rbf_svm_scaled.fit(X_train_scaled, y_train)\n",
        "\n",
        "y_pred_scaled_rbf = rbf_svm_scaled.predict(X_test_scaled)\n"
      ],
      "execution_count": 64,
      "outputs": []
    },
    {
      "cell_type": "code",
      "metadata": {
        "id": "dJsQS7f9dlpL",
        "outputId": "02d732ea-fe9c-4b1e-c498-8c74341643f2",
        "colab": {
          "base_uri": "https://localhost:8080/"
        }
      },
      "source": [
        "from sklearn.metrics import confusion_matrix\n",
        "\n",
        "print('\\nStandardize')\n",
        "print('Accuracy of SVM classifier on training set: {:.4f}'.format(rbf_svm_scaled.score(X_train_scaled, y_train)*100))\n",
        "print('Accuracy of SVM classifier on test set: {:.4f}'.format(rbf_svm_scaled.score(X_test_scaled, y_test)*100))\n",
        "print(classification_report(y_test,y_pred_scaled_rbf))\n",
        "print(confusion_matrix(y_test,y_pred_scaled_rbf))"
      ],
      "execution_count": 65,
      "outputs": [
        {
          "output_type": "stream",
          "text": [
            "\n",
            "Standardize\n",
            "Accuracy of SVM classifier on training set: 93.6025\n",
            "Accuracy of SVM classifier on test set: 93.7517\n",
            "              precision    recall  f1-score   support\n",
            "\n",
            "           0       0.94      0.78      0.85       863\n",
            "           1       0.94      0.99      0.96      2834\n",
            "\n",
            "    accuracy                           0.94      3697\n",
            "   macro avg       0.94      0.88      0.91      3697\n",
            "weighted avg       0.94      0.94      0.94      3697\n",
            "\n",
            "[[ 672  191]\n",
            " [  40 2794]]\n"
          ],
          "name": "stdout"
        }
      ]
    },
    {
      "cell_type": "markdown",
      "metadata": {
        "id": "GsNOKNqfdLgr"
      },
      "source": [
        "# Polynomial Kernel"
      ]
    },
    {
      "cell_type": "code",
      "metadata": {
        "id": "GaJDMdvRdVju"
      },
      "source": [
        "svclassifier = SVC(kernel='poly', degree=8)\n",
        "svclassifier.fit(X_train_scaled, y_train)\n",
        "y_pred_svclassifier = svclassifier.predict(X_test_scaled)\n"
      ],
      "execution_count": 66,
      "outputs": []
    },
    {
      "cell_type": "code",
      "metadata": {
        "id": "gq9CkKfhdjav",
        "outputId": "97ad83c6-3cff-4b2d-97bc-2dcec9991a93",
        "colab": {
          "base_uri": "https://localhost:8080/"
        }
      },
      "source": [
        "from sklearn.metrics import confusion_matrix\n",
        "print('\\nStandardize')\n",
        "print('Accuracy of SVM classifier on training set: {:.4f}'.format(svclassifier.score(X_train_scaled, y_train)*100))\n",
        "print('Accuracy of SVM classifier on test set: {:.4f}'.format(svclassifier.score(X_test_scaled, y_test)*100))\n",
        "print(classification_report(y_test,y_pred_svclassifier))\n",
        "print(confusion_matrix(y_test,y_pred_svclassifier))"
      ],
      "execution_count": 67,
      "outputs": [
        {
          "output_type": "stream",
          "text": [
            "\n",
            "Standardize\n",
            "Accuracy of SVM classifier on training set: 94.5966\n",
            "Accuracy of SVM classifier on test set: 93.5623\n",
            "              precision    recall  f1-score   support\n",
            "\n",
            "           0       0.93      0.78      0.85       863\n",
            "           1       0.94      0.98      0.96      2834\n",
            "\n",
            "    accuracy                           0.94      3697\n",
            "   macro avg       0.93      0.88      0.90      3697\n",
            "weighted avg       0.94      0.94      0.93      3697\n",
            "\n",
            "[[ 677  186]\n",
            " [  52 2782]]\n"
          ],
          "name": "stdout"
        }
      ]
    },
    {
      "cell_type": "markdown",
      "metadata": {
        "id": "rWQnjy8jdbl_"
      },
      "source": [
        "# Sigmoid Kernel"
      ]
    },
    {
      "cell_type": "code",
      "metadata": {
        "id": "bvtz1-5adcjz"
      },
      "source": [
        "svclassifier = SVC(kernel='sigmoid')\n",
        "svclassifier.fit(X_train_scaled, y_train)\n",
        "\n",
        "y_pred_sigmoid = svclassifier.predict(X_test_scaled)\n"
      ],
      "execution_count": 68,
      "outputs": []
    },
    {
      "cell_type": "code",
      "metadata": {
        "id": "cjIxA9zRdiWA",
        "outputId": "f1e9294f-6d61-42a1-d8cd-d3e250928658",
        "colab": {
          "base_uri": "https://localhost:8080/"
        }
      },
      "source": [
        "from sklearn.metrics import confusion_matrix\n",
        "\n",
        "print('\\nStandardize')\n",
        "print('Accuracy of SVM classifier on training set: {:.4f}'.format(svclassifier.score(X_train_scaled, y_train)*100))\n",
        "print('Accuracy of SVM classifier on test set: {:.4f}'.format(svclassifier.score(X_test_scaled, y_test)*100))\n",
        "print(classification_report(y_test,y_pred_sigmoid))\n",
        "print(confusion_matrix(y_test,y_pred_sigmoid))"
      ],
      "execution_count": 69,
      "outputs": [
        {
          "output_type": "stream",
          "text": [
            "\n",
            "Standardize\n",
            "Accuracy of SVM classifier on training set: 75.3973\n",
            "Accuracy of SVM classifier on test set: 75.3043\n",
            "              precision    recall  f1-score   support\n",
            "\n",
            "           0       0.47      0.46      0.47       863\n",
            "           1       0.84      0.84      0.84      2834\n",
            "\n",
            "    accuracy                           0.75      3697\n",
            "   macro avg       0.65      0.65      0.65      3697\n",
            "weighted avg       0.75      0.75      0.75      3697\n",
            "\n",
            "[[ 398  465]\n",
            " [ 448 2386]]\n"
          ],
          "name": "stdout"
        }
      ]
    },
    {
      "cell_type": "markdown",
      "metadata": {
        "id": "kVLarTTIds4r"
      },
      "source": [
        "# Logistic Regression"
      ]
    },
    {
      "cell_type": "code",
      "metadata": {
        "id": "CeMSMuNSdtvx",
        "outputId": "3b9561df-aa52-4b75-92f8-02e0a1ec9f35",
        "colab": {
          "base_uri": "https://localhost:8080/"
        }
      },
      "source": [
        "from sklearn.linear_model import LogisticRegression\n",
        "from sklearn import metrics\n",
        "\n",
        "\n",
        "logreg = LogisticRegression()\n",
        "logreg.fit(X_train, y_train)\n",
        "\n",
        "y_pred_logreg = logreg.predict(X_test)\n",
        "print('Accuracy of logistic regression classifier on test set: {:.2f}'.format(logreg.score(X_test, y_test)))\n",
        "\n",
        "from sklearn.metrics import confusion_matrix\n",
        "confusion_matrix = confusion_matrix(y_test, y_pred_logreg)\n",
        "print(confusion_matrix)\n",
        "print('\\n')\n",
        "\n",
        "from sklearn.metrics import classification_report\n",
        "print(classification_report(y_test, y_pred_logreg))"
      ],
      "execution_count": 70,
      "outputs": [
        {
          "output_type": "stream",
          "text": [
            "Accuracy of logistic regression classifier on test set: 0.85\n",
            "[[ 482  381]\n",
            " [ 177 2657]]\n",
            "\n",
            "\n",
            "              precision    recall  f1-score   support\n",
            "\n",
            "           0       0.73      0.56      0.63       863\n",
            "           1       0.87      0.94      0.90      2834\n",
            "\n",
            "    accuracy                           0.85      3697\n",
            "   macro avg       0.80      0.75      0.77      3697\n",
            "weighted avg       0.84      0.85      0.84      3697\n",
            "\n"
          ],
          "name": "stdout"
        },
        {
          "output_type": "stream",
          "text": [
            "/usr/local/lib/python3.6/dist-packages/sklearn/linear_model/_logistic.py:940: ConvergenceWarning: lbfgs failed to converge (status=1):\n",
            "STOP: TOTAL NO. of ITERATIONS REACHED LIMIT.\n",
            "\n",
            "Increase the number of iterations (max_iter) or scale the data as shown in:\n",
            "    https://scikit-learn.org/stable/modules/preprocessing.html\n",
            "Please also refer to the documentation for alternative solver options:\n",
            "    https://scikit-learn.org/stable/modules/linear_model.html#logistic-regression\n",
            "  extra_warning_msg=_LOGISTIC_SOLVER_CONVERGENCE_MSG)\n"
          ],
          "name": "stderr"
        }
      ]
    },
    {
      "cell_type": "markdown",
      "metadata": {
        "id": "CeI2_ezSzL3_"
      },
      "source": [
        "# Implement K-fold cross validation on KNN"
      ]
    },
    {
      "cell_type": "code",
      "metadata": {
        "id": "QuC6AFwnd2Tk",
        "outputId": "3cee61bf-5387-49ff-abb9-33c0d82fbd4b",
        "colab": {
          "base_uri": "https://localhost:8080/"
        }
      },
      "source": [
        "from sklearn.neighbors import KNeighborsClassifier\n",
        "from sklearn.model_selection import GridSearchCV\n",
        "\n",
        "parameter_grid = {'n_neighbors': np.arange(1,11)}\n",
        "knn = KNeighborsClassifier()\n",
        "knn_cv = GridSearchCV(knn, parameter_grid, cv=10)\n",
        "knn_cv.fit(X_train, y_train)"
      ],
      "execution_count": 71,
      "outputs": [
        {
          "output_type": "execute_result",
          "data": {
            "text/plain": [
              "GridSearchCV(cv=10, error_score=nan,\n",
              "             estimator=KNeighborsClassifier(algorithm='auto', leaf_size=30,\n",
              "                                            metric='minkowski',\n",
              "                                            metric_params=None, n_jobs=None,\n",
              "                                            n_neighbors=5, p=2,\n",
              "                                            weights='uniform'),\n",
              "             iid='deprecated', n_jobs=None,\n",
              "             param_grid={'n_neighbors': array([ 1,  2,  3,  4,  5,  6,  7,  8,  9, 10])},\n",
              "             pre_dispatch='2*n_jobs', refit=True, return_train_score=False,\n",
              "             scoring=None, verbose=0)"
            ]
          },
          "metadata": {
            "tags": []
          },
          "execution_count": 71
        }
      ]
    },
    {
      "cell_type": "code",
      "metadata": {
        "id": "vR8fGRfMzQCQ",
        "outputId": "bcb312ad-cf3a-4a55-c58b-a200a0eb7971",
        "colab": {
          "base_uri": "https://localhost:8080/"
        }
      },
      "source": [
        "knn_cv.cv_results_"
      ],
      "execution_count": 72,
      "outputs": [
        {
          "output_type": "execute_result",
          "data": {
            "text/plain": [
              "{'mean_fit_time': array([0.04821928, 0.04679773, 0.04921932, 0.04636953, 0.04640977,\n",
              "        0.04652593, 0.04508002, 0.0452235 , 0.04601901, 0.04607716]),\n",
              " 'mean_score_time': array([0.05169961, 0.05299301, 0.05714157, 0.05798407, 0.05559936,\n",
              "        0.05748136, 0.05734167, 0.05807986, 0.05848224, 0.05928352]),\n",
              " 'mean_test_score': array([0.86778887, 0.83965673, 0.86521989, 0.85061227, 0.86271811,\n",
              "        0.85737442, 0.86143259, 0.85757767, 0.86068811, 0.85615788]),\n",
              " 'param_n_neighbors': masked_array(data=[1, 2, 3, 4, 5, 6, 7, 8, 9, 10],\n",
              "              mask=[False, False, False, False, False, False, False, False,\n",
              "                    False, False],\n",
              "        fill_value='?',\n",
              "             dtype=object),\n",
              " 'params': [{'n_neighbors': 1},\n",
              "  {'n_neighbors': 2},\n",
              "  {'n_neighbors': 3},\n",
              "  {'n_neighbors': 4},\n",
              "  {'n_neighbors': 5},\n",
              "  {'n_neighbors': 6},\n",
              "  {'n_neighbors': 7},\n",
              "  {'n_neighbors': 8},\n",
              "  {'n_neighbors': 9},\n",
              "  {'n_neighbors': 10}],\n",
              " 'rank_test_score': array([ 1, 10,  2,  9,  3,  7,  4,  6,  5,  8], dtype=int32),\n",
              " 'split0_test_score': array([0.88100068, 0.84787018, 0.87085869, 0.86342123, 0.87491548,\n",
              "        0.87018256, 0.87423935, 0.86883029, 0.87018256, 0.86342123]),\n",
              " 'split1_test_score': array([0.87423935, 0.84110886, 0.86815416, 0.84651792, 0.86342123,\n",
              "        0.86004057, 0.86342123, 0.85665991, 0.8647735 , 0.85598377]),\n",
              " 'split2_test_score': array([0.87762001, 0.84584178, 0.87423935, 0.85260311, 0.8627451 ,\n",
              "        0.86544963, 0.86342123, 0.86409736, 0.86206897, 0.86139283]),\n",
              " 'split3_test_score': array([0.8647735 , 0.81812035, 0.85598377, 0.84381339, 0.85395538,\n",
              "        0.83772819, 0.85327924, 0.84651792, 0.85395538, 0.84719405]),\n",
              " 'split4_test_score': array([0.85665991, 0.83502366, 0.85665991, 0.84854632, 0.85665991,\n",
              "        0.8607167 , 0.85463151, 0.85395538, 0.85733604, 0.85733604]),\n",
              " 'split5_test_score': array([0.86206897, 0.84787018, 0.85530764, 0.84584178, 0.85260311,\n",
              "        0.85327924, 0.86004057, 0.85733604, 0.86206897, 0.85463151]),\n",
              " 'split6_test_score': array([0.86409736, 0.83772819, 0.86883029, 0.84989858, 0.86206897,\n",
              "        0.8586883 , 0.85733604, 0.85463151, 0.85936444, 0.84651792]),\n",
              " 'split7_test_score': array([0.87618403, 0.84573748, 0.87212449, 0.86129905, 0.87889039,\n",
              "        0.86671177, 0.87483085, 0.87280108, 0.86941813, 0.87280108]),\n",
              " 'split8_test_score': array([0.85588633, 0.84100135, 0.86603518, 0.84776725, 0.86874154,\n",
              "        0.85453315, 0.85994587, 0.8511502 , 0.86129905, 0.85453315]),\n",
              " 'split9_test_score': array([0.86535859, 0.83626522, 0.86400541, 0.84641407, 0.85317997,\n",
              "        0.84641407, 0.85317997, 0.84979702, 0.84641407, 0.84776725]),\n",
              " 'std_fit_time': array([0.00381921, 0.00456995, 0.00471592, 0.00103754, 0.00251578,\n",
              "        0.00197968, 0.00088357, 0.00088918, 0.00147565, 0.00201005]),\n",
              " 'std_score_time': array([0.00121387, 0.00217176, 0.00460682, 0.0057183 , 0.00092976,\n",
              "        0.00376176, 0.00368345, 0.00312637, 0.00292215, 0.00160246]),\n",
              " 'std_test_score': array([0.00842709, 0.00845323, 0.00664407, 0.00631255, 0.00868501,\n",
              "        0.00931341, 0.00743776, 0.0080483 , 0.00670299, 0.00779248])}"
            ]
          },
          "metadata": {
            "tags": []
          },
          "execution_count": 72
        }
      ]
    },
    {
      "cell_type": "code",
      "metadata": {
        "id": "yL2Cvd-TzRtP",
        "outputId": "4f603fa4-b2b0-4c90-dd14-06de55e38f15",
        "colab": {
          "base_uri": "https://localhost:8080/"
        }
      },
      "source": [
        "mean_test_score = list(knn_cv.cv_results_['mean_test_score'])\n",
        "mean_test_score"
      ],
      "execution_count": 73,
      "outputs": [
        {
          "output_type": "execute_result",
          "data": {
            "text/plain": [
              "[0.8677888728166364,\n",
              " 0.8396567277930723,\n",
              " 0.8652198894582798,\n",
              " 0.8506122704786268,\n",
              " 0.8627181076340757,\n",
              " 0.8573744191344588,\n",
              " 0.8614325866597865,\n",
              " 0.8575776706090957,\n",
              " 0.8606881089424243,\n",
              " 0.8561578838058483]"
            ]
          },
          "metadata": {
            "tags": []
          },
          "execution_count": 73
        }
      ]
    },
    {
      "cell_type": "code",
      "metadata": {
        "id": "MBzlyIm4zVk8",
        "outputId": "41d0b0d1-8c9f-43d0-9710-32a8740e7f08",
        "colab": {
          "base_uri": "https://localhost:8080/"
        }
      },
      "source": [
        "for i in range(len(mean_test_score)):\n",
        "  print('Mean Cross-Validation Score of', i+1, 'Nearest Neighbors is', mean_test_score[i])"
      ],
      "execution_count": 74,
      "outputs": [
        {
          "output_type": "stream",
          "text": [
            "Mean Cross-Validation Score of 1 Nearest Neighbors is 0.8677888728166364\n",
            "Mean Cross-Validation Score of 2 Nearest Neighbors is 0.8396567277930723\n",
            "Mean Cross-Validation Score of 3 Nearest Neighbors is 0.8652198894582798\n",
            "Mean Cross-Validation Score of 4 Nearest Neighbors is 0.8506122704786268\n",
            "Mean Cross-Validation Score of 5 Nearest Neighbors is 0.8627181076340757\n",
            "Mean Cross-Validation Score of 6 Nearest Neighbors is 0.8573744191344588\n",
            "Mean Cross-Validation Score of 7 Nearest Neighbors is 0.8614325866597865\n",
            "Mean Cross-Validation Score of 8 Nearest Neighbors is 0.8575776706090957\n",
            "Mean Cross-Validation Score of 9 Nearest Neighbors is 0.8606881089424243\n",
            "Mean Cross-Validation Score of 10 Nearest Neighbors is 0.8561578838058483\n"
          ],
          "name": "stdout"
        }
      ]
    },
    {
      "cell_type": "markdown",
      "metadata": {
        "id": "4usqFNTxzYb6"
      },
      "source": [
        "# Generate plot"
      ]
    },
    {
      "cell_type": "code",
      "metadata": {
        "id": "25-P5HWkzYyi",
        "outputId": "96fb86cf-0f5b-45ea-9494-e045220b5873",
        "colab": {
          "base_uri": "https://localhost:8080/",
          "height": 295
        }
      },
      "source": [
        "import matplotlib.pyplot as plt\n",
        "\n",
        "plt.title('k-NN: Varying Number of Nearest Neigbors')\n",
        "plt.plot(list(range(1,11)), mean_test_score)\n",
        "plt.xlabel('Number of Nearest Neighbors')\n",
        "plt.ylabel('Mean CV score')\n",
        "plt.show()"
      ],
      "execution_count": 75,
      "outputs": [
        {
          "output_type": "display_data",
          "data": {
            "image/png": "[encoded data removed]",
            "text/plain": [
              "<Figure size 432x288 with 1 Axes>"
            ]
          },
          "metadata": {
            "tags": [],
            "needs_background": "light"
          }
        }
      ]
    },
    {
      "cell_type": "markdown",
      "metadata": {
        "id": "clqc0m90zp1o"
      },
      "source": [
        "# Accuracy rate of Optimal k-value"
      ]
    },
    {
      "cell_type": "code",
      "metadata": {
        "id": "bPBKNlHvztDe",
        "outputId": "63ccb517-5124-439e-ee9c-988bf357345a",
        "colab": {
          "base_uri": "https://localhost:8080/"
        }
      },
      "source": [
        "knn_cv.best_params_"
      ],
      "execution_count": 76,
      "outputs": [
        {
          "output_type": "execute_result",
          "data": {
            "text/plain": [
              "{'n_neighbors': 1}"
            ]
          },
          "metadata": {
            "tags": []
          },
          "execution_count": 76
        }
      ]
    },
    {
      "cell_type": "code",
      "metadata": {
        "id": "JMf5kK3QzvJd"
      },
      "source": [
        "best_param = knn_cv.best_params_['n_neighbors']"
      ],
      "execution_count": 77,
      "outputs": []
    },
    {
      "cell_type": "code",
      "metadata": {
        "id": "4k_rulGXzwn2",
        "outputId": "262e4722-fc85-48da-d07c-6b553b9fdaf7",
        "colab": {
          "base_uri": "https://localhost:8080/"
        }
      },
      "source": [
        "from sklearn.metrics import accuracy_score\n",
        "\n",
        "knn_optimal = KNeighborsClassifier(n_neighbors=best_param)\n",
        "knn_optimal.fit(X_train, y_train)\n",
        "y_pred = knn_optimal.predict(X_test)\n",
        "accuracy_score(y_test, y_pred)"
      ],
      "execution_count": 78,
      "outputs": [
        {
          "output_type": "execute_result",
          "data": {
            "text/plain": [
              "0.8671896131998919"
            ]
          },
          "metadata": {
            "tags": []
          },
          "execution_count": 78
        }
      ]
    },
    {
      "cell_type": "code",
      "metadata": {
        "id": "rN4DwgqozzMj",
        "outputId": "e4c95a64-06dd-4789-d2dd-378d865971e4",
        "colab": {
          "base_uri": "https://localhost:8080/"
        }
      },
      "source": [
        "print('Accuracy rate is', accuracy_score(y_test, y_pred)*100, '%')\n",
        "print(classification_report(y_test, y_pred))"
      ],
      "execution_count": 79,
      "outputs": [
        {
          "output_type": "stream",
          "text": [
            "Accuracy rate is 86.71896131998919 %\n",
            "              precision    recall  f1-score   support\n",
            "\n",
            "           0       0.73      0.68      0.71       863\n",
            "           1       0.91      0.92      0.91      2834\n",
            "\n",
            "    accuracy                           0.87      3697\n",
            "   macro avg       0.82      0.80      0.81      3697\n",
            "weighted avg       0.86      0.87      0.87      3697\n",
            "\n"
          ],
          "name": "stdout"
        }
      ]
    },
    {
      "cell_type": "markdown",
      "metadata": {
        "id": "hdQq2yy8z1nr"
      },
      "source": [
        "# KNN Confusion Matrix"
      ]
    },
    {
      "cell_type": "code",
      "metadata": {
        "id": "9bXtYqNDzz8X",
        "outputId": "25d76ea7-0f20-4cf4-a368-5f37a0735461",
        "colab": {
          "base_uri": "https://localhost:8080/"
        }
      },
      "source": [
        "from sklearn.metrics import confusion_matrix\n",
        "cm = confusion_matrix(y_test, y_pred)\n",
        "cm"
      ],
      "execution_count": 80,
      "outputs": [
        {
          "output_type": "execute_result",
          "data": {
            "text/plain": [
              "array([[ 591,  272],\n",
              "       [ 219, 2615]])"
            ]
          },
          "metadata": {
            "tags": []
          },
          "execution_count": 80
        }
      ]
    },
    {
      "cell_type": "code",
      "metadata": {
        "id": "XR1m45cnz4eM",
        "outputId": "e1de5da3-5e02-4339-a569-bb4ca19f222c",
        "colab": {
          "base_uri": "https://localhost:8080/",
          "height": 296
        }
      },
      "source": [
        "from sklearn.metrics import plot_confusion_matrix\n",
        "class_names = ['income_<=70K','income_>70K']\n",
        "plot = plot_confusion_matrix(knn_optimal, X_test, y_test, cmap=plt.cm.Blues , display_labels=class_names, values_format='d')\n",
        "plot.ax_.set_title('Confusion Matrix')\n",
        "plt.show()"
      ],
      "execution_count": 81,
      "outputs": [
        {
          "output_type": "display_data",
          "data": {
            "image/png": "[encoded data removed]",
            "text/plain": [
              "<Figure size 432x288 with 2 Axes>"
            ]
          },
          "metadata": {
            "tags": [],
            "needs_background": "light"
          }
        }
      ]
    },
    {
      "cell_type": "markdown",
      "metadata": {
        "id": "mcXT52-ld0Au"
      },
      "source": [
        "# Aditional Plot"
      ]
    },
    {
      "cell_type": "code",
      "metadata": {
        "id": "uMQDNTvu5NhN"
      },
      "source": [
        "# data2 = pd.read_csv('/content/drive/My Drive/1-TermProject/factinternetsales1.1 (1).csv')\n",
        "# data2"
      ],
      "execution_count": 82,
      "outputs": []
    },
    {
      "cell_type": "code",
      "metadata": {
        "id": "idKOFlVu-ogA"
      },
      "source": [
        ""
      ],
      "execution_count": 82,
      "outputs": []
    },
    {
      "cell_type": "code",
      "metadata": {
        "id": "W6vWSpXN4zRc"
      },
      "source": [
        "# import numpy as np\n",
        "# import matplotlib.pyplot as plt\n",
        "\n",
        "# fig, ax1 = plt.subplots()\n",
        "\n",
        "# color = 'tab:red'\n",
        "# ax1.set_xlabel('Group')\n",
        "# ax1.set_ylabel('SalesAmount', color=color)\n",
        "# ax1.bar(data2['Group'], data2['SalesAmount'], color=color)\n",
        "# ax1.tick_params(axis='y', labelcolor=color)\n",
        "\n",
        "# ax2 = ax1.twinx()  # instantiate a second axes that shares the same x-axis\n",
        "\n",
        "# # color = 'tab:blue'\n",
        "# # ax2.set_ylabel('YearsIncome', color=color)  # we already handled the x-label with ax1\n",
        "# # ax2.plot(data2['Group'], data2['YearsIncome'], color=color)\n",
        "# # ax2.tick_params(axis='y', labelcolor=color)\n",
        "\n",
        "# fig.tight_layout()  # otherwise the right y-label is slightly clipped\n",
        "# plt.show()"
      ],
      "execution_count": 83,
      "outputs": []
    },
    {
      "cell_type": "code",
      "metadata": {
        "id": "h3ssQRtm-gUi"
      },
      "source": [
        "# data2['Group']"
      ],
      "execution_count": 84,
      "outputs": []
    },
    {
      "cell_type": "code",
      "metadata": {
        "id": "ANz9C0Lk_CXD"
      },
      "source": [
        "# a =data2.groupby('Group', as_index=False).sum().sort_values(by=['Group'])\n",
        "# a"
      ],
      "execution_count": 85,
      "outputs": []
    },
    {
      "cell_type": "code",
      "metadata": {
        "id": "IxrIMXjB8Etb"
      },
      "source": [
        "# import matplotlib\n",
        "# import matplotlib.pyplot as plt\n",
        "# import seaborn as sns\n",
        "\n",
        "# matplotlib.rc_file_defaults()\n",
        "# ax1 = sns.set_style(style=None, rc=None )\n",
        "\n",
        "# fig, ax1 = plt.subplots(figsize=(12,6))\n",
        "\n",
        "# # sns.barplot(data = data2, x='Group', y='YearsIncome', alpha=0.5)\n",
        "# sns.lineplot(data = a['SalesAmount'], marker='o', sort = False, ax=ax1)\n",
        "\n",
        "# ax2 = ax1.twinx()\n",
        "\n",
        "# sns.barplot(data = data2, x='Group', y='YearsIncome', alpha=0.5, ax=ax2)\n",
        "# # sns.lineplot(data = a['SalesAmount'], marker='o', sort = False, ax=ax2)"
      ],
      "execution_count": 86,
      "outputs": []
    },
    {
      "cell_type": "code",
      "metadata": {
        "id": "Go2-UHT2FDoJ"
      },
      "source": [
        "# print(ax1)"
      ],
      "execution_count": 87,
      "outputs": []
    },
    {
      "cell_type": "code",
      "metadata": {
        "id": "YaneBqXBESMq"
      },
      "source": [
        "# b = a['Group','SalesAmount']\n",
        "# b"
      ],
      "execution_count": 88,
      "outputs": []
    },
    {
      "cell_type": "code",
      "metadata": {
        "id": "Hz19wscWBWSN"
      },
      "source": [
        "# ax1 = sns.set_style(style=None, rc=None )\n",
        "\n",
        "# fig, ax1 = plt.subplots(figsize=(12,6))\n",
        "\n",
        "# sns.lineplot(data = a['SalesAmount'], marker='o', sort = False, ax=ax1)\n",
        "\n",
        "# # ax2 = ax1.twinx()\n",
        "\n",
        "# # sns.barplot(data = data2, x='Group', y='YearsIncome', alpha=0.5, ax=ax2)"
      ],
      "execution_count": 89,
      "outputs": []
    },
    {
      "cell_type": "code",
      "metadata": {
        "id": "YkARELa8CB-X"
      },
      "source": [
        "# sns.barplot(data = data2, x='Group', y='YearsIncome', alpha=0.5)"
      ],
      "execution_count": 90,
      "outputs": []
    },
    {
      "cell_type": "markdown",
      "metadata": {
        "id": "ar55dPQ-KR-s"
      },
      "source": [
        "# Model Data with all feature (Before feature selection)\n"
      ]
    },
    {
      "cell_type": "code",
      "metadata": {
        "id": "5whGRQHmd_fU",
        "outputId": "9925165c-5605-4dfc-8b6e-e7fec56ea62f",
        "colab": {
          "base_uri": "https://localhost:8080/"
        }
      },
      "source": [
        "dataNNa.shape"
      ],
      "execution_count": 91,
      "outputs": [
        {
          "output_type": "execute_result",
          "data": {
            "text/plain": [
              "(18484, 25)"
            ]
          },
          "metadata": {
            "tags": []
          },
          "execution_count": 91
        }
      ]
    },
    {
      "cell_type": "code",
      "metadata": {
        "id": "iEl-4ulwc71e"
      },
      "source": [
        "dataNNa['<=70k'] = np.where(dataNNa['YearlyIncome'] <= 70000, '<=70k' , '>70k')"
      ],
      "execution_count": 92,
      "outputs": []
    },
    {
      "cell_type": "code",
      "metadata": {
        "id": "PAvy_ifLeSzp",
        "outputId": "f1caf8c9-b39a-46ef-f9b5-f5c77a5ade29",
        "colab": {
          "base_uri": "https://localhost:8080/",
          "height": 479
        }
      },
      "source": [
        "dataNNa.head()"
      ],
      "execution_count": 93,
      "outputs": [
        {
          "output_type": "execute_result",
          "data": {
            "text/html": [
              "<div>\n",
              "<style scoped>\n",
              "    .dataframe tbody tr th:only-of-type {\n",
              "        vertical-align: middle;\n",
              "    }\n",
              "\n",
              "    .dataframe tbody tr th {\n",
              "        vertical-align: top;\n",
              "    }\n",
              "\n",
              "    .dataframe thead th {\n",
              "        text-align: right;\n",
              "    }\n",
              "</style>\n",
              "<table border=\"1\" class=\"dataframe\">\n",
              "  <thead>\n",
              "    <tr style=\"text-align: right;\">\n",
              "      <th></th>\n",
              "      <th>CustomerKey</th>\n",
              "      <th>GeographyKey</th>\n",
              "      <th>CustomerAlternateKey</th>\n",
              "      <th>FirstName</th>\n",
              "      <th>LastName</th>\n",
              "      <th>NameStyle</th>\n",
              "      <th>BirthDate</th>\n",
              "      <th>MaritalStatus</th>\n",
              "      <th>Gender</th>\n",
              "      <th>EmailAddress</th>\n",
              "      <th>YearlyIncome</th>\n",
              "      <th>TotalChildren</th>\n",
              "      <th>NumberChildrenAtHome</th>\n",
              "      <th>EnglishEducation</th>\n",
              "      <th>SpanishEducation</th>\n",
              "      <th>FrenchEducation</th>\n",
              "      <th>EnglishOccupation</th>\n",
              "      <th>SpanishOccupation</th>\n",
              "      <th>FrenchOccupation</th>\n",
              "      <th>HouseOwnerFlag</th>\n",
              "      <th>NumberCarsOwned</th>\n",
              "      <th>AddressLine1</th>\n",
              "      <th>Phone</th>\n",
              "      <th>DateFirstPurchase</th>\n",
              "      <th>CommuteDistance</th>\n",
              "      <th>&lt;=70k</th>\n",
              "    </tr>\n",
              "  </thead>\n",
              "  <tbody>\n",
              "    <tr>\n",
              "      <th>0</th>\n",
              "      <td>11000</td>\n",
              "      <td>26</td>\n",
              "      <td>AW00011000</td>\n",
              "      <td>Jon</td>\n",
              "      <td>Yang</td>\n",
              "      <td>False</td>\n",
              "      <td>1971-10-06T00:00:00.0000000</td>\n",
              "      <td>M</td>\n",
              "      <td>M</td>\n",
              "      <td>jon24@adventure-works.com</td>\n",
              "      <td>90000.0</td>\n",
              "      <td>2</td>\n",
              "      <td>0</td>\n",
              "      <td>Bachelors</td>\n",
              "      <td>Licenciatura</td>\n",
              "      <td>Bac + 4</td>\n",
              "      <td>Professional</td>\n",
              "      <td>Profesional</td>\n",
              "      <td>Cadre</td>\n",
              "      <td>1</td>\n",
              "      <td>0</td>\n",
              "      <td>3761 N. 14th St</td>\n",
              "      <td>1 (11) 500 555-0162</td>\n",
              "      <td>2011-01-19T00:00:00.0000000</td>\n",
              "      <td>1-2 Miles</td>\n",
              "      <td>&gt;70k</td>\n",
              "    </tr>\n",
              "    <tr>\n",
              "      <th>1</th>\n",
              "      <td>11001</td>\n",
              "      <td>37</td>\n",
              "      <td>AW00011001</td>\n",
              "      <td>Eugene</td>\n",
              "      <td>Huang</td>\n",
              "      <td>False</td>\n",
              "      <td>1976-05-10T00:00:00.0000000</td>\n",
              "      <td>S</td>\n",
              "      <td>M</td>\n",
              "      <td>eugene10@adventure-works.com</td>\n",
              "      <td>60000.0</td>\n",
              "      <td>3</td>\n",
              "      <td>3</td>\n",
              "      <td>Bachelors</td>\n",
              "      <td>Licenciatura</td>\n",
              "      <td>Bac + 4</td>\n",
              "      <td>Professional</td>\n",
              "      <td>Profesional</td>\n",
              "      <td>Cadre</td>\n",
              "      <td>0</td>\n",
              "      <td>1</td>\n",
              "      <td>2243 W St.</td>\n",
              "      <td>1 (11) 500 555-0110</td>\n",
              "      <td>2011-01-15T00:00:00.0000000</td>\n",
              "      <td>0-1 Miles</td>\n",
              "      <td>&lt;=70k</td>\n",
              "    </tr>\n",
              "    <tr>\n",
              "      <th>2</th>\n",
              "      <td>11002</td>\n",
              "      <td>31</td>\n",
              "      <td>AW00011002</td>\n",
              "      <td>Ruben</td>\n",
              "      <td>Torres</td>\n",
              "      <td>False</td>\n",
              "      <td>1971-02-09T00:00:00.0000000</td>\n",
              "      <td>M</td>\n",
              "      <td>M</td>\n",
              "      <td>ruben35@adventure-works.com</td>\n",
              "      <td>60000.0</td>\n",
              "      <td>3</td>\n",
              "      <td>3</td>\n",
              "      <td>Bachelors</td>\n",
              "      <td>Licenciatura</td>\n",
              "      <td>Bac + 4</td>\n",
              "      <td>Professional</td>\n",
              "      <td>Profesional</td>\n",
              "      <td>Cadre</td>\n",
              "      <td>1</td>\n",
              "      <td>1</td>\n",
              "      <td>5844 Linden Land</td>\n",
              "      <td>1 (11) 500 555-0184</td>\n",
              "      <td>2011-01-07T00:00:00.0000000</td>\n",
              "      <td>2-5 Miles</td>\n",
              "      <td>&lt;=70k</td>\n",
              "    </tr>\n",
              "    <tr>\n",
              "      <th>3</th>\n",
              "      <td>11003</td>\n",
              "      <td>11</td>\n",
              "      <td>AW00011003</td>\n",
              "      <td>Christy</td>\n",
              "      <td>Zhu</td>\n",
              "      <td>False</td>\n",
              "      <td>1973-08-14T00:00:00.0000000</td>\n",
              "      <td>S</td>\n",
              "      <td>F</td>\n",
              "      <td>christy12@adventure-works.com</td>\n",
              "      <td>70000.0</td>\n",
              "      <td>0</td>\n",
              "      <td>0</td>\n",
              "      <td>Bachelors</td>\n",
              "      <td>Licenciatura</td>\n",
              "      <td>Bac + 4</td>\n",
              "      <td>Professional</td>\n",
              "      <td>Profesional</td>\n",
              "      <td>Cadre</td>\n",
              "      <td>0</td>\n",
              "      <td>1</td>\n",
              "      <td>1825 Village Pl.</td>\n",
              "      <td>1 (11) 500 555-0162</td>\n",
              "      <td>2010-12-29T00:00:00.0000000</td>\n",
              "      <td>5-10 Miles</td>\n",
              "      <td>&lt;=70k</td>\n",
              "    </tr>\n",
              "    <tr>\n",
              "      <th>4</th>\n",
              "      <td>11004</td>\n",
              "      <td>19</td>\n",
              "      <td>AW00011004</td>\n",
              "      <td>Elizabeth</td>\n",
              "      <td>Johnson</td>\n",
              "      <td>False</td>\n",
              "      <td>1979-08-05T00:00:00.0000000</td>\n",
              "      <td>S</td>\n",
              "      <td>F</td>\n",
              "      <td>elizabeth5@adventure-works.com</td>\n",
              "      <td>80000.0</td>\n",
              "      <td>5</td>\n",
              "      <td>5</td>\n",
              "      <td>Bachelors</td>\n",
              "      <td>Licenciatura</td>\n",
              "      <td>Bac + 4</td>\n",
              "      <td>Professional</td>\n",
              "      <td>Profesional</td>\n",
              "      <td>Cadre</td>\n",
              "      <td>1</td>\n",
              "      <td>4</td>\n",
              "      <td>7553 Harness Circle</td>\n",
              "      <td>1 (11) 500 555-0131</td>\n",
              "      <td>2011-01-23T00:00:00.0000000</td>\n",
              "      <td>1-2 Miles</td>\n",
              "      <td>&gt;70k</td>\n",
              "    </tr>\n",
              "  </tbody>\n",
              "</table>\n",
              "</div>"
            ],
            "text/plain": [
              "   CustomerKey  GeographyKey  ... CommuteDistance  <=70k\n",
              "0        11000            26  ...       1-2 Miles   >70k\n",
              "1        11001            37  ...       0-1 Miles  <=70k\n",
              "2        11002            31  ...       2-5 Miles  <=70k\n",
              "3        11003            11  ...      5-10 Miles  <=70k\n",
              "4        11004            19  ...       1-2 Miles   >70k\n",
              "\n",
              "[5 rows x 26 columns]"
            ]
          },
          "metadata": {
            "tags": []
          },
          "execution_count": 93
        }
      ]
    },
    {
      "cell_type": "code",
      "metadata": {
        "id": "LtWIL1d3Krau"
      },
      "source": [
        "alldata = pd.get_dummies(dataNNa)"
      ],
      "execution_count": 94,
      "outputs": []
    },
    {
      "cell_type": "code",
      "metadata": {
        "id": "cNdt9l9ALDTy",
        "outputId": "5004c024-1c7d-4fc6-c7c3-1e88fa4292a3",
        "colab": {
          "base_uri": "https://localhost:8080/",
          "height": 270
        }
      },
      "source": [
        "alldata.head()"
      ],
      "execution_count": 95,
      "outputs": [
        {
          "output_type": "execute_result",
          "data": {
            "text/html": [
              "<div>\n",
              "<style scoped>\n",
              "    .dataframe tbody tr th:only-of-type {\n",
              "        vertical-align: middle;\n",
              "    }\n",
              "\n",
              "    .dataframe tbody tr th {\n",
              "        vertical-align: top;\n",
              "    }\n",
              "\n",
              "    .dataframe thead th {\n",
              "        text-align: right;\n",
              "    }\n",
              "</style>\n",
              "<table border=\"1\" class=\"dataframe\">\n",
              "  <thead>\n",
              "    <tr style=\"text-align: right;\">\n",
              "      <th></th>\n",
              "      <th>CustomerKey</th>\n",
              "      <th>GeographyKey</th>\n",
              "      <th>NameStyle</th>\n",
              "      <th>YearlyIncome</th>\n",
              "      <th>TotalChildren</th>\n",
              "      <th>NumberChildrenAtHome</th>\n",
              "      <th>HouseOwnerFlag</th>\n",
              "      <th>NumberCarsOwned</th>\n",
              "      <th>CustomerAlternateKey_AW00011000</th>\n",
              "      <th>CustomerAlternateKey_AW00011001</th>\n",
              "      <th>CustomerAlternateKey_AW00011002</th>\n",
              "      <th>CustomerAlternateKey_AW00011003</th>\n",
              "      <th>CustomerAlternateKey_AW00011004</th>\n",
              "      <th>CustomerAlternateKey_AW00011005</th>\n",
              "      <th>CustomerAlternateKey_AW00011006</th>\n",
              "      <th>CustomerAlternateKey_AW00011007</th>\n",
              "      <th>CustomerAlternateKey_AW00011008</th>\n",
              "      <th>CustomerAlternateKey_AW00011009</th>\n",
              "      <th>CustomerAlternateKey_AW00011010</th>\n",
              "      <th>CustomerAlternateKey_AW00011011</th>\n",
              "      <th>CustomerAlternateKey_AW00011012</th>\n",
              "      <th>CustomerAlternateKey_AW00011013</th>\n",
              "      <th>CustomerAlternateKey_AW00011014</th>\n",
              "      <th>CustomerAlternateKey_AW00011015</th>\n",
              "      <th>CustomerAlternateKey_AW00011016</th>\n",
              "      <th>CustomerAlternateKey_AW00011017</th>\n",
              "      <th>CustomerAlternateKey_AW00011018</th>\n",
              "      <th>CustomerAlternateKey_AW00011019</th>\n",
              "      <th>CustomerAlternateKey_AW00011020</th>\n",
              "      <th>CustomerAlternateKey_AW00011021</th>\n",
              "      <th>CustomerAlternateKey_AW00011022</th>\n",
              "      <th>CustomerAlternateKey_AW00011023</th>\n",
              "      <th>CustomerAlternateKey_AW00011024</th>\n",
              "      <th>CustomerAlternateKey_AW00011025</th>\n",
              "      <th>CustomerAlternateKey_AW00011026</th>\n",
              "      <th>CustomerAlternateKey_AW00011027</th>\n",
              "      <th>CustomerAlternateKey_AW00011028</th>\n",
              "      <th>CustomerAlternateKey_AW00011029</th>\n",
              "      <th>CustomerAlternateKey_AW00011030</th>\n",
              "      <th>CustomerAlternateKey_AW00011031</th>\n",
              "      <th>...</th>\n",
              "      <th>DateFirstPurchase_2013-12-27T00:00:00.0000000</th>\n",
              "      <th>DateFirstPurchase_2013-12-28T00:00:00.0000000</th>\n",
              "      <th>DateFirstPurchase_2013-12-29T00:00:00.0000000</th>\n",
              "      <th>DateFirstPurchase_2013-12-30T00:00:00.0000000</th>\n",
              "      <th>DateFirstPurchase_2013-12-31T00:00:00.0000000</th>\n",
              "      <th>DateFirstPurchase_2014-01-01T00:00:00.0000000</th>\n",
              "      <th>DateFirstPurchase_2014-01-02T00:00:00.0000000</th>\n",
              "      <th>DateFirstPurchase_2014-01-03T00:00:00.0000000</th>\n",
              "      <th>DateFirstPurchase_2014-01-04T00:00:00.0000000</th>\n",
              "      <th>DateFirstPurchase_2014-01-05T00:00:00.0000000</th>\n",
              "      <th>DateFirstPurchase_2014-01-06T00:00:00.0000000</th>\n",
              "      <th>DateFirstPurchase_2014-01-07T00:00:00.0000000</th>\n",
              "      <th>DateFirstPurchase_2014-01-08T00:00:00.0000000</th>\n",
              "      <th>DateFirstPurchase_2014-01-09T00:00:00.0000000</th>\n",
              "      <th>DateFirstPurchase_2014-01-10T00:00:00.0000000</th>\n",
              "      <th>DateFirstPurchase_2014-01-11T00:00:00.0000000</th>\n",
              "      <th>DateFirstPurchase_2014-01-12T00:00:00.0000000</th>\n",
              "      <th>DateFirstPurchase_2014-01-13T00:00:00.0000000</th>\n",
              "      <th>DateFirstPurchase_2014-01-14T00:00:00.0000000</th>\n",
              "      <th>DateFirstPurchase_2014-01-15T00:00:00.0000000</th>\n",
              "      <th>DateFirstPurchase_2014-01-16T00:00:00.0000000</th>\n",
              "      <th>DateFirstPurchase_2014-01-17T00:00:00.0000000</th>\n",
              "      <th>DateFirstPurchase_2014-01-18T00:00:00.0000000</th>\n",
              "      <th>DateFirstPurchase_2014-01-19T00:00:00.0000000</th>\n",
              "      <th>DateFirstPurchase_2014-01-20T00:00:00.0000000</th>\n",
              "      <th>DateFirstPurchase_2014-01-21T00:00:00.0000000</th>\n",
              "      <th>DateFirstPurchase_2014-01-22T00:00:00.0000000</th>\n",
              "      <th>DateFirstPurchase_2014-01-23T00:00:00.0000000</th>\n",
              "      <th>DateFirstPurchase_2014-01-24T00:00:00.0000000</th>\n",
              "      <th>DateFirstPurchase_2014-01-25T00:00:00.0000000</th>\n",
              "      <th>DateFirstPurchase_2014-01-26T00:00:00.0000000</th>\n",
              "      <th>DateFirstPurchase_2014-01-27T00:00:00.0000000</th>\n",
              "      <th>DateFirstPurchase_2014-01-28T00:00:00.0000000</th>\n",
              "      <th>CommuteDistance_0-1 Miles</th>\n",
              "      <th>CommuteDistance_1-2 Miles</th>\n",
              "      <th>CommuteDistance_10+ Miles</th>\n",
              "      <th>CommuteDistance_2-5 Miles</th>\n",
              "      <th>CommuteDistance_5-10 Miles</th>\n",
              "      <th>&lt;=70k_&lt;=70k</th>\n",
              "      <th>&lt;=70k_&gt;70k</th>\n",
              "    </tr>\n",
              "  </thead>\n",
              "  <tbody>\n",
              "    <tr>\n",
              "      <th>0</th>\n",
              "      <td>11000</td>\n",
              "      <td>26</td>\n",
              "      <td>False</td>\n",
              "      <td>90000.0</td>\n",
              "      <td>2</td>\n",
              "      <td>0</td>\n",
              "      <td>1</td>\n",
              "      <td>0</td>\n",
              "      <td>1</td>\n",
              "      <td>0</td>\n",
              "      <td>0</td>\n",
              "      <td>0</td>\n",
              "      <td>0</td>\n",
              "      <td>0</td>\n",
              "      <td>0</td>\n",
              "      <td>0</td>\n",
              "      <td>0</td>\n",
              "      <td>0</td>\n",
              "      <td>0</td>\n",
              "      <td>0</td>\n",
              "      <td>0</td>\n",
              "      <td>0</td>\n",
              "      <td>0</td>\n",
              "      <td>0</td>\n",
              "      <td>0</td>\n",
              "      <td>0</td>\n",
              "      <td>0</td>\n",
              "      <td>0</td>\n",
              "      <td>0</td>\n",
              "      <td>0</td>\n",
              "      <td>0</td>\n",
              "      <td>0</td>\n",
              "      <td>0</td>\n",
              "      <td>0</td>\n",
              "      <td>0</td>\n",
              "      <td>0</td>\n",
              "      <td>0</td>\n",
              "      <td>0</td>\n",
              "      <td>0</td>\n",
              "      <td>0</td>\n",
              "      <td>...</td>\n",
              "      <td>0</td>\n",
              "      <td>0</td>\n",
              "      <td>0</td>\n",
              "      <td>0</td>\n",
              "      <td>0</td>\n",
              "      <td>0</td>\n",
              "      <td>0</td>\n",
              "      <td>0</td>\n",
              "      <td>0</td>\n",
              "      <td>0</td>\n",
              "      <td>0</td>\n",
              "      <td>0</td>\n",
              "      <td>0</td>\n",
              "      <td>0</td>\n",
              "      <td>0</td>\n",
              "      <td>0</td>\n",
              "      <td>0</td>\n",
              "      <td>0</td>\n",
              "      <td>0</td>\n",
              "      <td>0</td>\n",
              "      <td>0</td>\n",
              "      <td>0</td>\n",
              "      <td>0</td>\n",
              "      <td>0</td>\n",
              "      <td>0</td>\n",
              "      <td>0</td>\n",
              "      <td>0</td>\n",
              "      <td>0</td>\n",
              "      <td>0</td>\n",
              "      <td>0</td>\n",
              "      <td>0</td>\n",
              "      <td>0</td>\n",
              "      <td>0</td>\n",
              "      <td>0</td>\n",
              "      <td>1</td>\n",
              "      <td>0</td>\n",
              "      <td>0</td>\n",
              "      <td>0</td>\n",
              "      <td>0</td>\n",
              "      <td>1</td>\n",
              "    </tr>\n",
              "    <tr>\n",
              "      <th>1</th>\n",
              "      <td>11001</td>\n",
              "      <td>37</td>\n",
              "      <td>False</td>\n",
              "      <td>60000.0</td>\n",
              "      <td>3</td>\n",
              "      <td>3</td>\n",
              "      <td>0</td>\n",
              "      <td>1</td>\n",
              "      <td>0</td>\n",
              "      <td>1</td>\n",
              "      <td>0</td>\n",
              "      <td>0</td>\n",
              "      <td>0</td>\n",
              "      <td>0</td>\n",
              "      <td>0</td>\n",
              "      <td>0</td>\n",
              "      <td>0</td>\n",
              "      <td>0</td>\n",
              "      <td>0</td>\n",
              "      <td>0</td>\n",
              "      <td>0</td>\n",
              "      <td>0</td>\n",
              "      <td>0</td>\n",
              "      <td>0</td>\n",
              "      <td>0</td>\n",
              "      <td>0</td>\n",
              "      <td>0</td>\n",
              "      <td>0</td>\n",
              "      <td>0</td>\n",
              "      <td>0</td>\n",
              "      <td>0</td>\n",
              "      <td>0</td>\n",
              "      <td>0</td>\n",
              "      <td>0</td>\n",
              "      <td>0</td>\n",
              "      <td>0</td>\n",
              "      <td>0</td>\n",
              "      <td>0</td>\n",
              "      <td>0</td>\n",
              "      <td>0</td>\n",
              "      <td>...</td>\n",
              "      <td>0</td>\n",
              "      <td>0</td>\n",
              "      <td>0</td>\n",
              "      <td>0</td>\n",
              "      <td>0</td>\n",
              "      <td>0</td>\n",
              "      <td>0</td>\n",
              "      <td>0</td>\n",
              "      <td>0</td>\n",
              "      <td>0</td>\n",
              "      <td>0</td>\n",
              "      <td>0</td>\n",
              "      <td>0</td>\n",
              "      <td>0</td>\n",
              "      <td>0</td>\n",
              "      <td>0</td>\n",
              "      <td>0</td>\n",
              "      <td>0</td>\n",
              "      <td>0</td>\n",
              "      <td>0</td>\n",
              "      <td>0</td>\n",
              "      <td>0</td>\n",
              "      <td>0</td>\n",
              "      <td>0</td>\n",
              "      <td>0</td>\n",
              "      <td>0</td>\n",
              "      <td>0</td>\n",
              "      <td>0</td>\n",
              "      <td>0</td>\n",
              "      <td>0</td>\n",
              "      <td>0</td>\n",
              "      <td>0</td>\n",
              "      <td>0</td>\n",
              "      <td>1</td>\n",
              "      <td>0</td>\n",
              "      <td>0</td>\n",
              "      <td>0</td>\n",
              "      <td>0</td>\n",
              "      <td>1</td>\n",
              "      <td>0</td>\n",
              "    </tr>\n",
              "    <tr>\n",
              "      <th>2</th>\n",
              "      <td>11002</td>\n",
              "      <td>31</td>\n",
              "      <td>False</td>\n",
              "      <td>60000.0</td>\n",
              "      <td>3</td>\n",
              "      <td>3</td>\n",
              "      <td>1</td>\n",
              "      <td>1</td>\n",
              "      <td>0</td>\n",
              "      <td>0</td>\n",
              "      <td>1</td>\n",
              "      <td>0</td>\n",
              "      <td>0</td>\n",
              "      <td>0</td>\n",
              "      <td>0</td>\n",
              "      <td>0</td>\n",
              "      <td>0</td>\n",
              "      <td>0</td>\n",
              "      <td>0</td>\n",
              "      <td>0</td>\n",
              "      <td>0</td>\n",
              "      <td>0</td>\n",
              "      <td>0</td>\n",
              "      <td>0</td>\n",
              "      <td>0</td>\n",
              "      <td>0</td>\n",
              "      <td>0</td>\n",
              "      <td>0</td>\n",
              "      <td>0</td>\n",
              "      <td>0</td>\n",
              "      <td>0</td>\n",
              "      <td>0</td>\n",
              "      <td>0</td>\n",
              "      <td>0</td>\n",
              "      <td>0</td>\n",
              "      <td>0</td>\n",
              "      <td>0</td>\n",
              "      <td>0</td>\n",
              "      <td>0</td>\n",
              "      <td>0</td>\n",
              "      <td>...</td>\n",
              "      <td>0</td>\n",
              "      <td>0</td>\n",
              "      <td>0</td>\n",
              "      <td>0</td>\n",
              "      <td>0</td>\n",
              "      <td>0</td>\n",
              "      <td>0</td>\n",
              "      <td>0</td>\n",
              "      <td>0</td>\n",
              "      <td>0</td>\n",
              "      <td>0</td>\n",
              "      <td>0</td>\n",
              "      <td>0</td>\n",
              "      <td>0</td>\n",
              "      <td>0</td>\n",
              "      <td>0</td>\n",
              "      <td>0</td>\n",
              "      <td>0</td>\n",
              "      <td>0</td>\n",
              "      <td>0</td>\n",
              "      <td>0</td>\n",
              "      <td>0</td>\n",
              "      <td>0</td>\n",
              "      <td>0</td>\n",
              "      <td>0</td>\n",
              "      <td>0</td>\n",
              "      <td>0</td>\n",
              "      <td>0</td>\n",
              "      <td>0</td>\n",
              "      <td>0</td>\n",
              "      <td>0</td>\n",
              "      <td>0</td>\n",
              "      <td>0</td>\n",
              "      <td>0</td>\n",
              "      <td>0</td>\n",
              "      <td>0</td>\n",
              "      <td>1</td>\n",
              "      <td>0</td>\n",
              "      <td>1</td>\n",
              "      <td>0</td>\n",
              "    </tr>\n",
              "    <tr>\n",
              "      <th>3</th>\n",
              "      <td>11003</td>\n",
              "      <td>11</td>\n",
              "      <td>False</td>\n",
              "      <td>70000.0</td>\n",
              "      <td>0</td>\n",
              "      <td>0</td>\n",
              "      <td>0</td>\n",
              "      <td>1</td>\n",
              "      <td>0</td>\n",
              "      <td>0</td>\n",
              "      <td>0</td>\n",
              "      <td>1</td>\n",
              "      <td>0</td>\n",
              "      <td>0</td>\n",
              "      <td>0</td>\n",
              "      <td>0</td>\n",
              "      <td>0</td>\n",
              "      <td>0</td>\n",
              "      <td>0</td>\n",
              "      <td>0</td>\n",
              "      <td>0</td>\n",
              "      <td>0</td>\n",
              "      <td>0</td>\n",
              "      <td>0</td>\n",
              "      <td>0</td>\n",
              "      <td>0</td>\n",
              "      <td>0</td>\n",
              "      <td>0</td>\n",
              "      <td>0</td>\n",
              "      <td>0</td>\n",
              "      <td>0</td>\n",
              "      <td>0</td>\n",
              "      <td>0</td>\n",
              "      <td>0</td>\n",
              "      <td>0</td>\n",
              "      <td>0</td>\n",
              "      <td>0</td>\n",
              "      <td>0</td>\n",
              "      <td>0</td>\n",
              "      <td>0</td>\n",
              "      <td>...</td>\n",
              "      <td>0</td>\n",
              "      <td>0</td>\n",
              "      <td>0</td>\n",
              "      <td>0</td>\n",
              "      <td>0</td>\n",
              "      <td>0</td>\n",
              "      <td>0</td>\n",
              "      <td>0</td>\n",
              "      <td>0</td>\n",
              "      <td>0</td>\n",
              "      <td>0</td>\n",
              "      <td>0</td>\n",
              "      <td>0</td>\n",
              "      <td>0</td>\n",
              "      <td>0</td>\n",
              "      <td>0</td>\n",
              "      <td>0</td>\n",
              "      <td>0</td>\n",
              "      <td>0</td>\n",
              "      <td>0</td>\n",
              "      <td>0</td>\n",
              "      <td>0</td>\n",
              "      <td>0</td>\n",
              "      <td>0</td>\n",
              "      <td>0</td>\n",
              "      <td>0</td>\n",
              "      <td>0</td>\n",
              "      <td>0</td>\n",
              "      <td>0</td>\n",
              "      <td>0</td>\n",
              "      <td>0</td>\n",
              "      <td>0</td>\n",
              "      <td>0</td>\n",
              "      <td>0</td>\n",
              "      <td>0</td>\n",
              "      <td>0</td>\n",
              "      <td>0</td>\n",
              "      <td>1</td>\n",
              "      <td>1</td>\n",
              "      <td>0</td>\n",
              "    </tr>\n",
              "    <tr>\n",
              "      <th>4</th>\n",
              "      <td>11004</td>\n",
              "      <td>19</td>\n",
              "      <td>False</td>\n",
              "      <td>80000.0</td>\n",
              "      <td>5</td>\n",
              "      <td>5</td>\n",
              "      <td>1</td>\n",
              "      <td>4</td>\n",
              "      <td>0</td>\n",
              "      <td>0</td>\n",
              "      <td>0</td>\n",
              "      <td>0</td>\n",
              "      <td>1</td>\n",
              "      <td>0</td>\n",
              "      <td>0</td>\n",
              "      <td>0</td>\n",
              "      <td>0</td>\n",
              "      <td>0</td>\n",
              "      <td>0</td>\n",
              "      <td>0</td>\n",
              "      <td>0</td>\n",
              "      <td>0</td>\n",
              "      <td>0</td>\n",
              "      <td>0</td>\n",
              "      <td>0</td>\n",
              "      <td>0</td>\n",
              "      <td>0</td>\n",
              "      <td>0</td>\n",
              "      <td>0</td>\n",
              "      <td>0</td>\n",
              "      <td>0</td>\n",
              "      <td>0</td>\n",
              "      <td>0</td>\n",
              "      <td>0</td>\n",
              "      <td>0</td>\n",
              "      <td>0</td>\n",
              "      <td>0</td>\n",
              "      <td>0</td>\n",
              "      <td>0</td>\n",
              "      <td>0</td>\n",
              "      <td>...</td>\n",
              "      <td>0</td>\n",
              "      <td>0</td>\n",
              "      <td>0</td>\n",
              "      <td>0</td>\n",
              "      <td>0</td>\n",
              "      <td>0</td>\n",
              "      <td>0</td>\n",
              "      <td>0</td>\n",
              "      <td>0</td>\n",
              "      <td>0</td>\n",
              "      <td>0</td>\n",
              "      <td>0</td>\n",
              "      <td>0</td>\n",
              "      <td>0</td>\n",
              "      <td>0</td>\n",
              "      <td>0</td>\n",
              "      <td>0</td>\n",
              "      <td>0</td>\n",
              "      <td>0</td>\n",
              "      <td>0</td>\n",
              "      <td>0</td>\n",
              "      <td>0</td>\n",
              "      <td>0</td>\n",
              "      <td>0</td>\n",
              "      <td>0</td>\n",
              "      <td>0</td>\n",
              "      <td>0</td>\n",
              "      <td>0</td>\n",
              "      <td>0</td>\n",
              "      <td>0</td>\n",
              "      <td>0</td>\n",
              "      <td>0</td>\n",
              "      <td>0</td>\n",
              "      <td>0</td>\n",
              "      <td>1</td>\n",
              "      <td>0</td>\n",
              "      <td>0</td>\n",
              "      <td>0</td>\n",
              "      <td>0</td>\n",
              "      <td>1</td>\n",
              "    </tr>\n",
              "  </tbody>\n",
              "</table>\n",
              "<p>5 rows × 67017 columns</p>\n",
              "</div>"
            ],
            "text/plain": [
              "   CustomerKey  GeographyKey  ...  <=70k_<=70k  <=70k_>70k\n",
              "0        11000            26  ...            0           1\n",
              "1        11001            37  ...            1           0\n",
              "2        11002            31  ...            1           0\n",
              "3        11003            11  ...            1           0\n",
              "4        11004            19  ...            0           1\n",
              "\n",
              "[5 rows x 67017 columns]"
            ]
          },
          "metadata": {
            "tags": []
          },
          "execution_count": 95
        }
      ]
    },
    {
      "cell_type": "code",
      "metadata": {
        "id": "djDW-hbdKexy"
      },
      "source": [
        "X = df.drop(['<=70k_<=70k','<=70k_>70k'], axis=1).values\n",
        "y = df.loc[:, '<=70k_<=70k']"
      ],
      "execution_count": 96,
      "outputs": []
    },
    {
      "cell_type": "code",
      "metadata": {
        "id": "uoEwt7u-fZey"
      },
      "source": [
        "from sklearn.model_selection import train_test_split\n",
        "X_train, X_test, y_train, y_test = train_test_split(X, y, test_size=0.2, random_state=0)"
      ],
      "execution_count": 97,
      "outputs": []
    },
    {
      "cell_type": "code",
      "metadata": {
        "id": "YMgqtzVefb5c"
      },
      "source": [
        "import numpy as np\n",
        "import pandas as pd\n",
        "from sklearn.model_selection import train_test_split\n",
        "from sklearn.metrics import accuracy_score,mean_squared_error, r2_score\n",
        "from sklearn.metrics import classification_report, confusion_matrix\n",
        "from sklearn import preprocessing\n",
        "from sklearn import svm\n",
        "from sklearn.svm import SVC"
      ],
      "execution_count": 98,
      "outputs": []
    },
    {
      "cell_type": "code",
      "metadata": {
        "id": "ZcGJVlHzfdkq"
      },
      "source": [
        "from sklearn import preprocessing\n",
        "scaler = preprocessing.StandardScaler().fit(X_train)\n",
        "X_train_scaled = scaler.transform(X_train)\n",
        "X_test_scaled = scaler.transform(X_test)"
      ],
      "execution_count": 99,
      "outputs": []
    },
    {
      "cell_type": "markdown",
      "metadata": {
        "id": "7Xv3JLodffV6"
      },
      "source": [
        "# linear"
      ]
    },
    {
      "cell_type": "code",
      "metadata": {
        "id": "ybKcdV-Ifhzu"
      },
      "source": [
        "linear_svm_scaled = svm.SVC(kernel='linear')\n",
        "linear_svm_scaled.fit(X_train_scaled, y_train)\n",
        "\n",
        "y_pred_scaled_linear = linear_svm_scaled.predict(X_test_scaled)\n",
        "\n"
      ],
      "execution_count": 100,
      "outputs": []
    },
    {
      "cell_type": "code",
      "metadata": {
        "id": "M5F2ilGifjit",
        "outputId": "ba68e11b-5906-41ed-f9a9-941522fe7aca",
        "colab": {
          "base_uri": "https://localhost:8080/"
        }
      },
      "source": [
        "import numpy as np\n",
        "from sklearn.metrics import confusion_matrix\n",
        "print('\\nStandardize')\n",
        "print('Accuracy of SVM classifier on training set: {:.4f}'.format(linear_svm_scaled.score(X_train_scaled, y_train)*100))\n",
        "print('Accuracy of SVM classifier on test set: {:.4f}'.format(linear_svm_scaled.score(X_test_scaled, y_test)*100))\n",
        "print(classification_report(y_test,y_pred_scaled_linear))\n",
        "print(confusion_matrix(y_test,y_pred_scaled_linear))"
      ],
      "execution_count": 101,
      "outputs": [
        {
          "output_type": "stream",
          "text": [
            "\n",
            "Standardize\n",
            "Accuracy of SVM classifier on training set: 89.7545\n",
            "Accuracy of SVM classifier on test set: 89.0181\n",
            "              precision    recall  f1-score   support\n",
            "\n",
            "           0       0.91      0.58      0.71       863\n",
            "           1       0.89      0.98      0.93      2834\n",
            "\n",
            "    accuracy                           0.89      3697\n",
            "   macro avg       0.90      0.78      0.82      3697\n",
            "weighted avg       0.89      0.89      0.88      3697\n",
            "\n",
            "[[ 504  359]\n",
            " [  47 2787]]\n"
          ],
          "name": "stdout"
        }
      ]
    },
    {
      "cell_type": "markdown",
      "metadata": {
        "id": "boIp8naYfmvS"
      },
      "source": [
        "# rbf"
      ]
    },
    {
      "cell_type": "code",
      "metadata": {
        "id": "-_MMxHMJfqhY"
      },
      "source": [
        "rbf_svm_scaled = svm.SVC(kernel='rbf')\n",
        "rbf_svm_scaled.fit(X_train_scaled, y_train)\n",
        "\n",
        "y_pred_scaled_rbf = rbf_svm_scaled.predict(X_test_scaled)\n"
      ],
      "execution_count": 102,
      "outputs": []
    },
    {
      "cell_type": "code",
      "metadata": {
        "id": "M3mB8t3RfuNS",
        "outputId": "0112f80c-ca2f-443b-9a7b-3e13b809e7b9",
        "colab": {
          "base_uri": "https://localhost:8080/"
        }
      },
      "source": [
        "from sklearn.metrics import confusion_matrix\n",
        "\n",
        "print('\\nStandardize')\n",
        "print('Accuracy of SVM classifier on training set: {:.4f}'.format(rbf_svm_scaled.score(X_train_scaled, y_train)*100))\n",
        "print('Accuracy of SVM classifier on test set: {:.4f}'.format(rbf_svm_scaled.score(X_test_scaled, y_test)*100))\n",
        "print(classification_report(y_test,y_pred_scaled_rbf))\n",
        "print(confusion_matrix(y_test,y_pred_scaled_rbf))"
      ],
      "execution_count": 103,
      "outputs": [
        {
          "output_type": "stream",
          "text": [
            "\n",
            "Standardize\n",
            "Accuracy of SVM classifier on training set: 93.6025\n",
            "Accuracy of SVM classifier on test set: 93.7517\n",
            "              precision    recall  f1-score   support\n",
            "\n",
            "           0       0.94      0.78      0.85       863\n",
            "           1       0.94      0.99      0.96      2834\n",
            "\n",
            "    accuracy                           0.94      3697\n",
            "   macro avg       0.94      0.88      0.91      3697\n",
            "weighted avg       0.94      0.94      0.94      3697\n",
            "\n",
            "[[ 672  191]\n",
            " [  40 2794]]\n"
          ],
          "name": "stdout"
        }
      ]
    },
    {
      "cell_type": "markdown",
      "metadata": {
        "id": "vYbYk127fvvx"
      },
      "source": [
        "# Polynomial Kernel"
      ]
    },
    {
      "cell_type": "code",
      "metadata": {
        "id": "OulrKbQIf0wS"
      },
      "source": [
        "svclassifier = SVC(kernel='poly', degree=3)\n",
        "svclassifier.fit(X_train_scaled, y_train)\n",
        "y_pred_svclassifier = svclassifier.predict(X_test_scaled)\n"
      ],
      "execution_count": 104,
      "outputs": []
    },
    {
      "cell_type": "code",
      "metadata": {
        "id": "v0_P57Wkf22S",
        "outputId": "cfa3c056-6bec-4dce-e9b0-ec1755a52bc7",
        "colab": {
          "base_uri": "https://localhost:8080/"
        }
      },
      "source": [
        "from sklearn.metrics import confusion_matrix\n",
        "print('\\nStandardize')\n",
        "print('Accuracy of SVM classifier on training set: {:.4f}'.format(svclassifier.score(X_train_scaled, y_train)*100))\n",
        "print('Accuracy of SVM classifier on test set: {:.4f}'.format(svclassifier.score(X_test_scaled, y_test)*100))\n",
        "print(classification_report(y_test,y_pred_svclassifier))\n",
        "print(confusion_matrix(y_test,y_pred_svclassifier))"
      ],
      "execution_count": 105,
      "outputs": [
        {
          "output_type": "stream",
          "text": [
            "\n",
            "Standardize\n",
            "Accuracy of SVM classifier on training set: 93.7580\n",
            "Accuracy of SVM classifier on test set: 93.9410\n",
            "              precision    recall  f1-score   support\n",
            "\n",
            "           0       0.94      0.79      0.86       863\n",
            "           1       0.94      0.99      0.96      2834\n",
            "\n",
            "    accuracy                           0.94      3697\n",
            "   macro avg       0.94      0.89      0.91      3697\n",
            "weighted avg       0.94      0.94      0.94      3697\n",
            "\n",
            "[[ 679  184]\n",
            " [  40 2794]]\n"
          ],
          "name": "stdout"
        }
      ]
    },
    {
      "cell_type": "markdown",
      "metadata": {
        "id": "M61442yQf5ar"
      },
      "source": [
        "# Sigmoid Kernel"
      ]
    },
    {
      "cell_type": "code",
      "metadata": {
        "id": "vILbE4p0f6jB"
      },
      "source": [
        "svclassifier = SVC(kernel='sigmoid')\n",
        "svclassifier.fit(X_train_scaled, y_train)\n",
        "\n",
        "y_pred_sigmoid = svclassifier.predict(X_test_scaled)\n"
      ],
      "execution_count": 106,
      "outputs": []
    },
    {
      "cell_type": "code",
      "metadata": {
        "id": "qgggk-5zf8eh",
        "outputId": "b0058ec2-f797-4b41-9ba4-370aaac81f2f",
        "colab": {
          "base_uri": "https://localhost:8080/"
        }
      },
      "source": [
        "from sklearn.metrics import confusion_matrix\n",
        "\n",
        "print('\\nStandardize')\n",
        "print('Accuracy of SVM classifier on training set: {:.4f}'.format(svclassifier.score(X_train_scaled, y_train)*100))\n",
        "print('Accuracy of SVM classifier on test set: {:.4f}'.format(svclassifier.score(X_test_scaled, y_test)*100))\n",
        "print(classification_report(y_test,y_pred_sigmoid))\n",
        "print(confusion_matrix(y_test,y_pred_sigmoid))"
      ],
      "execution_count": 107,
      "outputs": [
        {
          "output_type": "stream",
          "text": [
            "\n",
            "Standardize\n",
            "Accuracy of SVM classifier on training set: 75.3973\n",
            "Accuracy of SVM classifier on test set: 75.3043\n",
            "              precision    recall  f1-score   support\n",
            "\n",
            "           0       0.47      0.46      0.47       863\n",
            "           1       0.84      0.84      0.84      2834\n",
            "\n",
            "    accuracy                           0.75      3697\n",
            "   macro avg       0.65      0.65      0.65      3697\n",
            "weighted avg       0.75      0.75      0.75      3697\n",
            "\n",
            "[[ 398  465]\n",
            " [ 448 2386]]\n"
          ],
          "name": "stdout"
        }
      ]
    },
    {
      "cell_type": "markdown",
      "metadata": {
        "id": "RoJ5wchugAk6"
      },
      "source": [
        "# Logistic Regression"
      ]
    },
    {
      "cell_type": "code",
      "metadata": {
        "id": "WttHSY3Of-I_",
        "outputId": "68872347-eba4-4850-9916-0a939006e7bb",
        "colab": {
          "base_uri": "https://localhost:8080/"
        }
      },
      "source": [
        "from sklearn.linear_model import LogisticRegression\n",
        "from sklearn import metrics\n",
        "\n",
        "\n",
        "logreg = LogisticRegression()\n",
        "logreg.fit(X_train, y_train)\n",
        "\n",
        "y_pred_logreg = logreg.predict(X_test)\n",
        "print('Accuracy of logistic regression classifier on test set: {:.2f}'.format(logreg.score(X_test, y_test)))\n",
        "\n",
        "from sklearn.metrics import confusion_matrix\n",
        "confusion_matrix = confusion_matrix(y_test, y_pred_logreg)\n",
        "print(confusion_matrix)\n",
        "print('\\n')\n",
        "\n",
        "from sklearn.metrics import classification_report\n",
        "print(classification_report(y_test, y_pred_logreg))"
      ],
      "execution_count": 108,
      "outputs": [
        {
          "output_type": "stream",
          "text": [
            "Accuracy of logistic regression classifier on test set: 0.85\n",
            "[[ 482  381]\n",
            " [ 177 2657]]\n",
            "\n",
            "\n",
            "              precision    recall  f1-score   support\n",
            "\n",
            "           0       0.73      0.56      0.63       863\n",
            "           1       0.87      0.94      0.90      2834\n",
            "\n",
            "    accuracy                           0.85      3697\n",
            "   macro avg       0.80      0.75      0.77      3697\n",
            "weighted avg       0.84      0.85      0.84      3697\n",
            "\n"
          ],
          "name": "stdout"
        },
        {
          "output_type": "stream",
          "text": [
            "/usr/local/lib/python3.6/dist-packages/sklearn/linear_model/_logistic.py:940: ConvergenceWarning: lbfgs failed to converge (status=1):\n",
            "STOP: TOTAL NO. of ITERATIONS REACHED LIMIT.\n",
            "\n",
            "Increase the number of iterations (max_iter) or scale the data as shown in:\n",
            "    https://scikit-learn.org/stable/modules/preprocessing.html\n",
            "Please also refer to the documentation for alternative solver options:\n",
            "    https://scikit-learn.org/stable/modules/linear_model.html#logistic-regression\n",
            "  extra_warning_msg=_LOGISTIC_SOLVER_CONVERGENCE_MSG)\n"
          ],
          "name": "stderr"
        }
      ]
    },
    {
      "cell_type": "markdown",
      "metadata": {
        "id": "Yks-1bazgUcZ"
      },
      "source": [
        "# Implement K-fold cross validation on KNN"
      ]
    },
    {
      "cell_type": "code",
      "metadata": {
        "id": "UVjoNRu8gGYh",
        "outputId": "950c605d-354e-437f-dd59-5734c9db04bc",
        "colab": {
          "base_uri": "https://localhost:8080/"
        }
      },
      "source": [
        "from sklearn.neighbors import KNeighborsClassifier\n",
        "from sklearn.model_selection import GridSearchCV\n",
        "\n",
        "parameter_grid = {'n_neighbors': np.arange(1,11)}\n",
        "knn = KNeighborsClassifier()\n",
        "knn_cv = GridSearchCV(knn, parameter_grid, cv=10)\n",
        "knn_cv.fit(X_train, y_train)"
      ],
      "execution_count": 109,
      "outputs": [
        {
          "output_type": "execute_result",
          "data": {
            "text/plain": [
              "GridSearchCV(cv=10, error_score=nan,\n",
              "             estimator=KNeighborsClassifier(algorithm='auto', leaf_size=30,\n",
              "                                            metric='minkowski',\n",
              "                                            metric_params=None, n_jobs=None,\n",
              "                                            n_neighbors=5, p=2,\n",
              "                                            weights='uniform'),\n",
              "             iid='deprecated', n_jobs=None,\n",
              "             param_grid={'n_neighbors': array([ 1,  2,  3,  4,  5,  6,  7,  8,  9, 10])},\n",
              "             pre_dispatch='2*n_jobs', refit=True, return_train_score=False,\n",
              "             scoring=None, verbose=0)"
            ]
          },
          "metadata": {
            "tags": []
          },
          "execution_count": 109
        }
      ]
    },
    {
      "cell_type": "code",
      "metadata": {
        "id": "CMi75y_5gXwr",
        "outputId": "5a85f4fc-51b1-49c1-fe85-2a0cb2d2bca3",
        "colab": {
          "base_uri": "https://localhost:8080/"
        }
      },
      "source": [
        "knn_cv.cv_results_"
      ],
      "execution_count": 110,
      "outputs": [
        {
          "output_type": "execute_result",
          "data": {
            "text/plain": [
              "{'mean_fit_time': array([0.05107589, 0.04519832, 0.04488258, 0.0449095 , 0.04504707,\n",
              "        0.04525549, 0.04588528, 0.04531038, 0.04631073, 0.04509964]),\n",
              " 'mean_score_time': array([0.05147381, 0.05336823, 0.05491657, 0.0548079 , 0.05672569,\n",
              "        0.05604589, 0.05713983, 0.05778112, 0.06009908, 0.05931771]),\n",
              " 'mean_test_score': array([0.86778887, 0.83965673, 0.86521989, 0.85061227, 0.86271811,\n",
              "        0.85737442, 0.86143259, 0.85757767, 0.86068811, 0.85615788]),\n",
              " 'param_n_neighbors': masked_array(data=[1, 2, 3, 4, 5, 6, 7, 8, 9, 10],\n",
              "              mask=[False, False, False, False, False, False, False, False,\n",
              "                    False, False],\n",
              "        fill_value='?',\n",
              "             dtype=object),\n",
              " 'params': [{'n_neighbors': 1},\n",
              "  {'n_neighbors': 2},\n",
              "  {'n_neighbors': 3},\n",
              "  {'n_neighbors': 4},\n",
              "  {'n_neighbors': 5},\n",
              "  {'n_neighbors': 6},\n",
              "  {'n_neighbors': 7},\n",
              "  {'n_neighbors': 8},\n",
              "  {'n_neighbors': 9},\n",
              "  {'n_neighbors': 10}],\n",
              " 'rank_test_score': array([ 1, 10,  2,  9,  3,  7,  4,  6,  5,  8], dtype=int32),\n",
              " 'split0_test_score': array([0.88100068, 0.84787018, 0.87085869, 0.86342123, 0.87491548,\n",
              "        0.87018256, 0.87423935, 0.86883029, 0.87018256, 0.86342123]),\n",
              " 'split1_test_score': array([0.87423935, 0.84110886, 0.86815416, 0.84651792, 0.86342123,\n",
              "        0.86004057, 0.86342123, 0.85665991, 0.8647735 , 0.85598377]),\n",
              " 'split2_test_score': array([0.87762001, 0.84584178, 0.87423935, 0.85260311, 0.8627451 ,\n",
              "        0.86544963, 0.86342123, 0.86409736, 0.86206897, 0.86139283]),\n",
              " 'split3_test_score': array([0.8647735 , 0.81812035, 0.85598377, 0.84381339, 0.85395538,\n",
              "        0.83772819, 0.85327924, 0.84651792, 0.85395538, 0.84719405]),\n",
              " 'split4_test_score': array([0.85665991, 0.83502366, 0.85665991, 0.84854632, 0.85665991,\n",
              "        0.8607167 , 0.85463151, 0.85395538, 0.85733604, 0.85733604]),\n",
              " 'split5_test_score': array([0.86206897, 0.84787018, 0.85530764, 0.84584178, 0.85260311,\n",
              "        0.85327924, 0.86004057, 0.85733604, 0.86206897, 0.85463151]),\n",
              " 'split6_test_score': array([0.86409736, 0.83772819, 0.86883029, 0.84989858, 0.86206897,\n",
              "        0.8586883 , 0.85733604, 0.85463151, 0.85936444, 0.84651792]),\n",
              " 'split7_test_score': array([0.87618403, 0.84573748, 0.87212449, 0.86129905, 0.87889039,\n",
              "        0.86671177, 0.87483085, 0.87280108, 0.86941813, 0.87280108]),\n",
              " 'split8_test_score': array([0.85588633, 0.84100135, 0.86603518, 0.84776725, 0.86874154,\n",
              "        0.85453315, 0.85994587, 0.8511502 , 0.86129905, 0.85453315]),\n",
              " 'split9_test_score': array([0.86535859, 0.83626522, 0.86400541, 0.84641407, 0.85317997,\n",
              "        0.84641407, 0.85317997, 0.84979702, 0.84641407, 0.84776725]),\n",
              " 'std_fit_time': array([0.01110117, 0.00070161, 0.00062102, 0.00090418, 0.00072372,\n",
              "        0.00240093, 0.00143847, 0.00079987, 0.00236805, 0.00080714]),\n",
              " 'std_score_time': array([0.00243231, 0.00222248, 0.00354797, 0.00316493, 0.00300366,\n",
              "        0.00241926, 0.00260276, 0.00288927, 0.00581001, 0.00318882]),\n",
              " 'std_test_score': array([0.00842709, 0.00845323, 0.00664407, 0.00631255, 0.00868501,\n",
              "        0.00931341, 0.00743776, 0.0080483 , 0.00670299, 0.00779248])}"
            ]
          },
          "metadata": {
            "tags": []
          },
          "execution_count": 110
        }
      ]
    },
    {
      "cell_type": "code",
      "metadata": {
        "id": "iQVEhd9ZgZNc",
        "outputId": "35ea26b0-3cb0-48b8-e1dc-aa7d50d13546",
        "colab": {
          "base_uri": "https://localhost:8080/"
        }
      },
      "source": [
        "mean_test_score = list(knn_cv.cv_results_['mean_test_score'])\n",
        "mean_test_score"
      ],
      "execution_count": 111,
      "outputs": [
        {
          "output_type": "execute_result",
          "data": {
            "text/plain": [
              "[0.8677888728166364,\n",
              " 0.8396567277930723,\n",
              " 0.8652198894582798,\n",
              " 0.8506122704786268,\n",
              " 0.8627181076340757,\n",
              " 0.8573744191344588,\n",
              " 0.8614325866597865,\n",
              " 0.8575776706090957,\n",
              " 0.8606881089424243,\n",
              " 0.8561578838058483]"
            ]
          },
          "metadata": {
            "tags": []
          },
          "execution_count": 111
        }
      ]
    },
    {
      "cell_type": "code",
      "metadata": {
        "id": "tJYCgm_AgbJY",
        "outputId": "6fe49e6d-7c5e-494f-fa56-ed408bc62736",
        "colab": {
          "base_uri": "https://localhost:8080/"
        }
      },
      "source": [
        "for i in range(len(mean_test_score)):\n",
        "  print('Mean Cross-Validation Score of', i+1, 'Nearest Neighbors is', mean_test_score[i])"
      ],
      "execution_count": 112,
      "outputs": [
        {
          "output_type": "stream",
          "text": [
            "Mean Cross-Validation Score of 1 Nearest Neighbors is 0.8677888728166364\n",
            "Mean Cross-Validation Score of 2 Nearest Neighbors is 0.8396567277930723\n",
            "Mean Cross-Validation Score of 3 Nearest Neighbors is 0.8652198894582798\n",
            "Mean Cross-Validation Score of 4 Nearest Neighbors is 0.8506122704786268\n",
            "Mean Cross-Validation Score of 5 Nearest Neighbors is 0.8627181076340757\n",
            "Mean Cross-Validation Score of 6 Nearest Neighbors is 0.8573744191344588\n",
            "Mean Cross-Validation Score of 7 Nearest Neighbors is 0.8614325866597865\n",
            "Mean Cross-Validation Score of 8 Nearest Neighbors is 0.8575776706090957\n",
            "Mean Cross-Validation Score of 9 Nearest Neighbors is 0.8606881089424243\n",
            "Mean Cross-Validation Score of 10 Nearest Neighbors is 0.8561578838058483\n"
          ],
          "name": "stdout"
        }
      ]
    },
    {
      "cell_type": "markdown",
      "metadata": {
        "id": "2x1P2F_Cgcmm"
      },
      "source": [
        "# Generate plot"
      ]
    },
    {
      "cell_type": "code",
      "metadata": {
        "id": "BYMB2VuGgfIu",
        "outputId": "7cef840f-b398-4728-a2ff-7022d66c9618",
        "colab": {
          "base_uri": "https://localhost:8080/",
          "height": 295
        }
      },
      "source": [
        "import matplotlib.pyplot as plt\n",
        "\n",
        "plt.title('k-NN: Varying Number of Nearest Neigbors')\n",
        "plt.plot(list(range(1,11)), mean_test_score)\n",
        "plt.xlabel('Number of Nearest Neighbors')\n",
        "plt.ylabel('Mean CV score')\n",
        "plt.show()"
      ],
      "execution_count": 113,
      "outputs": [
        {
          "output_type": "display_data",
          "data": {
            "image/png": "[encoded data removed]",
            "text/plain": [
              "<Figure size 432x288 with 1 Axes>"
            ]
          },
          "metadata": {
            "tags": [],
            "needs_background": "light"
          }
        }
      ]
    },
    {
      "cell_type": "markdown",
      "metadata": {
        "id": "Kqh-0nFogiR-"
      },
      "source": [
        "# Accuracy rate of Optimal k-value\n"
      ]
    },
    {
      "cell_type": "code",
      "metadata": {
        "id": "BbQy2Rzfggmk",
        "outputId": "8bde0e8c-bcb5-474a-ac43-d36c5bf0898c",
        "colab": {
          "base_uri": "https://localhost:8080/"
        }
      },
      "source": [
        "knn_cv.best_params_"
      ],
      "execution_count": 114,
      "outputs": [
        {
          "output_type": "execute_result",
          "data": {
            "text/plain": [
              "{'n_neighbors': 1}"
            ]
          },
          "metadata": {
            "tags": []
          },
          "execution_count": 114
        }
      ]
    },
    {
      "cell_type": "code",
      "metadata": {
        "id": "n7CL_cQugnbf"
      },
      "source": [
        "best_param = knn_cv.best_params_['n_neighbors']"
      ],
      "execution_count": 115,
      "outputs": []
    },
    {
      "cell_type": "code",
      "metadata": {
        "id": "RHSvvCeugo5C",
        "outputId": "b344adba-2096-4334-ec9e-269160c40d75",
        "colab": {
          "base_uri": "https://localhost:8080/"
        }
      },
      "source": [
        "from sklearn.metrics import accuracy_score\n",
        "\n",
        "knn_optimal = KNeighborsClassifier(n_neighbors=best_param)\n",
        "knn_optimal.fit(X_train, y_train)\n",
        "y_pred = knn_optimal.predict(X_test)\n",
        "accuracy_score(y_test, y_pred)"
      ],
      "execution_count": 116,
      "outputs": [
        {
          "output_type": "execute_result",
          "data": {
            "text/plain": [
              "0.8671896131998919"
            ]
          },
          "metadata": {
            "tags": []
          },
          "execution_count": 116
        }
      ]
    },
    {
      "cell_type": "code",
      "metadata": {
        "id": "DGUpsv9PgqLG",
        "outputId": "54512f98-def1-4bac-8c66-e683fb0b0814",
        "colab": {
          "base_uri": "https://localhost:8080/"
        }
      },
      "source": [
        "print('Accuracy rate is', accuracy_score(y_test, y_pred)*100, '%')\n",
        "print(classification_report(y_test, y_pred))"
      ],
      "execution_count": 117,
      "outputs": [
        {
          "output_type": "stream",
          "text": [
            "Accuracy rate is 86.71896131998919 %\n",
            "              precision    recall  f1-score   support\n",
            "\n",
            "           0       0.73      0.68      0.71       863\n",
            "           1       0.91      0.92      0.91      2834\n",
            "\n",
            "    accuracy                           0.87      3697\n",
            "   macro avg       0.82      0.80      0.81      3697\n",
            "weighted avg       0.86      0.87      0.87      3697\n",
            "\n"
          ],
          "name": "stdout"
        }
      ]
    },
    {
      "cell_type": "markdown",
      "metadata": {
        "id": "6jTHH5aVgtQd"
      },
      "source": [
        "# KNN Confusion Matrix"
      ]
    },
    {
      "cell_type": "code",
      "metadata": {
        "id": "-xLqqrSXgvCg",
        "outputId": "852db725-0716-4025-db85-599984c8a08a",
        "colab": {
          "base_uri": "https://localhost:8080/"
        }
      },
      "source": [
        "from sklearn.metrics import confusion_matrix\n",
        "cm = confusion_matrix(y_test, y_pred)\n",
        "cm"
      ],
      "execution_count": 118,
      "outputs": [
        {
          "output_type": "execute_result",
          "data": {
            "text/plain": [
              "array([[ 591,  272],\n",
              "       [ 219, 2615]])"
            ]
          },
          "metadata": {
            "tags": []
          },
          "execution_count": 118
        }
      ]
    },
    {
      "cell_type": "code",
      "metadata": {
        "id": "5zzi36QHgwam",
        "outputId": "9c392b83-f5a4-4d1f-b783-4f367b3e3adc",
        "colab": {
          "base_uri": "https://localhost:8080/",
          "height": 296
        }
      },
      "source": [
        "from sklearn.metrics import plot_confusion_matrix\n",
        "class_names = ['income_<=70K','income_>70K']\n",
        "plot = plot_confusion_matrix(knn_optimal, X_test, y_test, cmap=plt.cm.Blues , display_labels=class_names, values_format='d')\n",
        "plot.ax_.set_title('Confusion Matrix')\n",
        "plt.show()"
      ],
      "execution_count": 119,
      "outputs": [
        {
          "output_type": "display_data",
          "data": {
            "image/png": "[encoded data removed]",
            "text/plain": [
              "<Figure size 432x288 with 2 Axes>"
            ]
          },
          "metadata": {
            "tags": [],
            "needs_background": "light"
          }
        }
      ]
    }
  ]
}